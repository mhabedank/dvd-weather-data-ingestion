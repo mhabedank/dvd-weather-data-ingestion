{
 "cells": [
  {
   "cell_type": "code",
   "execution_count": 6,
   "outputs": [],
   "source": [
    "import os\n",
    "from glob import glob\n",
    "\n",
    "import pandas as pd\n",
    "from dotenv import load_dotenv\n",
    "\n",
    "from src.file_wrapper.meta_data import GeographieMeta, StationNameMeta\n",
    "from src.file_wrapper.weather_data import Wind10MinutesData\n",
    "\n",
    "load_dotenv()\n",
    "\n",
    "META_DATA_FOLDER = os.path.join(os.getenv('PROJECT_DIR'), 'data','interim', 'station_meta' )\n",
    "DATA_FOLDER = os.path.join(os.getenv('PROJECT_DIR'), 'data','interim', 'wind10_min' )\n",
    "PARQUET_FOLDER = os.path.join(os.getenv('PROJECT_DIR'), 'data','interim', 'parquet' )\n",
    "\n",
    "GET_WIND = True"
   ],
   "metadata": {
    "collapsed": false,
    "ExecuteTime": {
     "end_time": "2023-08-16T04:10:57.242512Z",
     "start_time": "2023-08-16T04:10:56.013897Z"
    }
   },
   "id": "initial_id"
  },
  {
   "cell_type": "code",
   "execution_count": 7,
   "outputs": [
    {
     "name": "stdout",
     "output_type": "stream",
     "text": [
      "CPU times: user 1.28 s, sys: 166 ms, total: 1.44 s\n",
      "Wall time: 1.61 s\n"
     ]
    }
   ],
   "source": [
    "%%time\n",
    "geo_meta_data = []\n",
    "name_meta_data = []\n",
    "meta_data_folders = glob(os.path.join(META_DATA_FOLDER, '*'))\n",
    "\n",
    "if not os.path.exists(PARQUET_FOLDER):\n",
    "    os.makedirs(PARQUET_FOLDER)\n",
    "\n",
    "for folder in meta_data_folders:\n",
    "    geo_meta_data.append(GeographieMeta(folder))\n",
    "    name_meta_data.append(StationNameMeta(folder))\n",
    "\n",
    "geo_df = pd.concat([gm.data for gm in geo_meta_data])\n",
    "name_df = pd.concat([nm.data for nm in name_meta_data])\n",
    "\n",
    "geo_df.to_parquet(os.path.join(PARQUET_FOLDER, 'geo.parquet'))\n",
    "name_df.to_parquet(os.path.join(PARQUET_FOLDER, 'name.parquet'))\n"
   ],
   "metadata": {
    "collapsed": false,
    "ExecuteTime": {
     "end_time": "2023-08-16T04:11:00.971515Z",
     "start_time": "2023-08-16T04:10:59.325859Z"
    }
   },
   "id": "9b9a29f9bed83ea0"
  },
  {
   "cell_type": "code",
   "execution_count": 10,
   "outputs": [
    {
     "name": "stdout",
     "output_type": "stream",
     "text": [
      "Found 997 folders\n",
      "CPU times: user 21min 49s, sys: 3min 17s, total: 25min 6s\n",
      "Wall time: 33min 1s\n"
     ]
    }
   ],
   "source": [
    "%%time\n",
    "if GET_WIND:\n",
    "    wind_data = []\n",
    "    wind_data_folders = glob(os.path.join(DATA_FOLDER, '*'))\n",
    "    \n",
    "    print(f\"Found {len(wind_data_folders)} folders\")\n",
    "    for i, folder in enumerate(wind_data_folders):\n",
    "        wind_data.append(Wind10MinutesData(folder))\n",
    "        \n",
    "        \n",
    "    wind_df = pd.concat([wd.data for wd in wind_data])\n",
    "    wind_df = wind_df[~((wind_df['avg_direction'].isna()) & (wind_df['avg_speed'].isna()))]\n",
    "    \n",
    "    wind_df.to_parquet(os.path.join(PARQUET_FOLDER, 'wind.parquet'), engine='pyarrow')"
   ],
   "metadata": {
    "collapsed": false,
    "ExecuteTime": {
     "end_time": "2023-08-16T04:46:12.223895Z",
     "start_time": "2023-08-16T04:13:09.700840Z"
    }
   },
   "id": "bea640c5cecbcea6"
  }
 ],
 "metadata": {
  "kernelspec": {
   "display_name": "Python 3",
   "language": "python",
   "name": "python3"
  },
  "language_info": {
   "codemirror_mode": {
    "name": "ipython",
    "version": 2
   },
   "file_extension": ".py",
   "mimetype": "text/x-python",
   "name": "python",
   "nbconvert_exporter": "python",
   "pygments_lexer": "ipython2",
   "version": "2.7.6"
  }
 },
 "nbformat": 4,
 "nbformat_minor": 5
}
