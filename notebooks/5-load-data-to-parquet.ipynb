{
 "cells": [
  {
   "cell_type": "markdown",
   "source": [
    "# Daten in Parquet Dateien transformieren\n",
    "\n",
    "Die Daten werden nun aus den Dateien in ein Dataframe geschrieben und dann als Parquet Files zwischengespeichert. Dabei werden die Daten zudem nach Bundesland gefiltert."
   ],
   "metadata": {
    "collapsed": false
   },
   "id": "59232f58d5f24110"
  },
  {
   "cell_type": "code",
   "execution_count": 1,
   "outputs": [],
   "source": [
    "\n",
    "import os\n",
    "from glob import glob\n",
    "\n",
    "import pandas as pd\n",
    "from dotenv import load_dotenv\n",
    "\n",
    "from src.file_wrapper.meta_data import GeographieMeta, StationNameMeta\n",
    "from src.file_wrapper.weather_data import Wind10MinutesData\n",
    "from src.file_wrapper.geo_data import AdministrativeBoundaries\n",
    "\n",
    "load_dotenv()\n",
    "\n",
    "\n",
    "META_DATA_FOLDER = os.path.join(os.getenv('PROJECT_DIR'), 'data','interim', 'station_meta' )\n",
    "DATA_FOLDER = os.path.join(os.getenv('PROJECT_DIR'), 'data','interim', 'wind10_min' )\n",
    "PARQUET_FOLDER = os.path.join(os.getenv('PROJECT_DIR'), 'data','interim', 'parquet' )\n",
    "\n",
    "GEO_BOUNDARIES_GEOJSON_PATH = os.path.join(os.getenv('PROJECT_DIR'), 'data', 'raw', 'federal_states.geojson')\n",
    "\n",
    "GET_WIND = True\n",
    "MIN_TIMESTAMP = pd.Timestamp('2020-01-01')"
   ],
   "metadata": {
    "collapsed": false,
    "ExecuteTime": {
     "end_time": "2023-09-07T22:40:09.302003Z",
     "start_time": "2023-09-07T22:40:05.706393Z"
    }
   },
   "id": "initial_id"
  },
  {
   "cell_type": "code",
   "execution_count": 2,
   "outputs": [],
   "source": [
    "geo_meta_data = []\n",
    "name_meta_data = []\n",
    "meta_data_folders = glob(os.path.join(META_DATA_FOLDER, '*'))\n",
    "\n",
    "if not os.path.exists(PARQUET_FOLDER):\n",
    "    os.makedirs(PARQUET_FOLDER)\n",
    "\n",
    "for folder in meta_data_folders:\n",
    "    geo_meta_data.append(GeographieMeta(folder))\n",
    "    name_meta_data.append(StationNameMeta(folder))\n",
    "\n",
    "geo_df = pd.concat([gm.data for gm in geo_meta_data])\n",
    "name_df = pd.concat([nm.data for nm in name_meta_data])"
   ],
   "metadata": {
    "collapsed": false,
    "ExecuteTime": {
     "end_time": "2023-09-07T22:40:10.625435Z",
     "start_time": "2023-09-07T22:40:09.305755Z"
    }
   },
   "id": "e02e190b183062dd"
  },
  {
   "cell_type": "code",
   "execution_count": 3,
   "outputs": [
    {
     "data": {
      "text/plain": "   station_id  altitude  latitude  longitude  from_date    to_date  \\\n0        3811     130.0   51.2959    13.0930 1889-01-01 1941-09-30   \n1        3811     130.0   51.2959    13.0930 1941-10-01 1947-09-30   \n2        3811     150.0   51.2959    13.0930 1947-10-01 1977-12-31   \n3        3811     150.0   51.2960    13.0928 1978-01-01 2006-05-04   \n4        3811     150.0   51.2960    13.0928 2006-05-05 2008-07-31   \n\n  station_name  \n0      Oschatz  \n1      Oschatz  \n2      Oschatz  \n3      Oschatz  \n4      Oschatz  ",
      "text/html": "<div>\n<style scoped>\n    .dataframe tbody tr th:only-of-type {\n        vertical-align: middle;\n    }\n\n    .dataframe tbody tr th {\n        vertical-align: top;\n    }\n\n    .dataframe thead th {\n        text-align: right;\n    }\n</style>\n<table border=\"1\" class=\"dataframe\">\n  <thead>\n    <tr style=\"text-align: right;\">\n      <th></th>\n      <th>station_id</th>\n      <th>altitude</th>\n      <th>latitude</th>\n      <th>longitude</th>\n      <th>from_date</th>\n      <th>to_date</th>\n      <th>station_name</th>\n    </tr>\n  </thead>\n  <tbody>\n    <tr>\n      <th>0</th>\n      <td>3811</td>\n      <td>130.0</td>\n      <td>51.2959</td>\n      <td>13.0930</td>\n      <td>1889-01-01</td>\n      <td>1941-09-30</td>\n      <td>Oschatz</td>\n    </tr>\n    <tr>\n      <th>1</th>\n      <td>3811</td>\n      <td>130.0</td>\n      <td>51.2959</td>\n      <td>13.0930</td>\n      <td>1941-10-01</td>\n      <td>1947-09-30</td>\n      <td>Oschatz</td>\n    </tr>\n    <tr>\n      <th>2</th>\n      <td>3811</td>\n      <td>150.0</td>\n      <td>51.2959</td>\n      <td>13.0930</td>\n      <td>1947-10-01</td>\n      <td>1977-12-31</td>\n      <td>Oschatz</td>\n    </tr>\n    <tr>\n      <th>3</th>\n      <td>3811</td>\n      <td>150.0</td>\n      <td>51.2960</td>\n      <td>13.0928</td>\n      <td>1978-01-01</td>\n      <td>2006-05-04</td>\n      <td>Oschatz</td>\n    </tr>\n    <tr>\n      <th>4</th>\n      <td>3811</td>\n      <td>150.0</td>\n      <td>51.2960</td>\n      <td>13.0928</td>\n      <td>2006-05-05</td>\n      <td>2008-07-31</td>\n      <td>Oschatz</td>\n    </tr>\n  </tbody>\n</table>\n</div>"
     },
     "execution_count": 3,
     "metadata": {},
     "output_type": "execute_result"
    }
   ],
   "source": [
    "geo_df.head()"
   ],
   "metadata": {
    "collapsed": false,
    "ExecuteTime": {
     "end_time": "2023-09-07T22:40:10.710322Z",
     "start_time": "2023-09-07T22:40:10.633496Z"
    }
   },
   "id": "89ebc3a4a96ed886"
  },
  {
   "cell_type": "code",
   "execution_count": 4,
   "outputs": [
    {
     "data": {
      "text/plain": "  station_id             name  from_date    to_date\n0       3811          Oschatz 1889-01-01        NaT\n0       4466        Schleswig 1946-10-01        NaT\n0       6103  Mittenwald/Obb. 2000-06-15        NaT\n0       3015       Lindenberg 1906-04-01        NaT\n0       3023           Lingen 1855-01-01 1950-12-14",
      "text/html": "<div>\n<style scoped>\n    .dataframe tbody tr th:only-of-type {\n        vertical-align: middle;\n    }\n\n    .dataframe tbody tr th {\n        vertical-align: top;\n    }\n\n    .dataframe thead th {\n        text-align: right;\n    }\n</style>\n<table border=\"1\" class=\"dataframe\">\n  <thead>\n    <tr style=\"text-align: right;\">\n      <th></th>\n      <th>station_id</th>\n      <th>name</th>\n      <th>from_date</th>\n      <th>to_date</th>\n    </tr>\n  </thead>\n  <tbody>\n    <tr>\n      <th>0</th>\n      <td>3811</td>\n      <td>Oschatz</td>\n      <td>1889-01-01</td>\n      <td>NaT</td>\n    </tr>\n    <tr>\n      <th>0</th>\n      <td>4466</td>\n      <td>Schleswig</td>\n      <td>1946-10-01</td>\n      <td>NaT</td>\n    </tr>\n    <tr>\n      <th>0</th>\n      <td>6103</td>\n      <td>Mittenwald/Obb.</td>\n      <td>2000-06-15</td>\n      <td>NaT</td>\n    </tr>\n    <tr>\n      <th>0</th>\n      <td>3015</td>\n      <td>Lindenberg</td>\n      <td>1906-04-01</td>\n      <td>NaT</td>\n    </tr>\n    <tr>\n      <th>0</th>\n      <td>3023</td>\n      <td>Lingen</td>\n      <td>1855-01-01</td>\n      <td>1950-12-14</td>\n    </tr>\n  </tbody>\n</table>\n</div>"
     },
     "execution_count": 4,
     "metadata": {},
     "output_type": "execute_result"
    }
   ],
   "source": [
    "name_df.head()"
   ],
   "metadata": {
    "collapsed": false,
    "ExecuteTime": {
     "end_time": "2023-09-07T22:40:10.721076Z",
     "start_time": "2023-09-07T22:40:10.705392Z"
    }
   },
   "id": "903e0afe67e79f52"
  },
  {
   "cell_type": "markdown",
   "source": [
    "An die Geodaten werden nun die Bundesländer mithilfe der vorherigen Geoinformationen angefügt."
   ],
   "metadata": {
    "collapsed": false
   },
   "id": "3d3425a3fa5c6118"
  },
  {
   "cell_type": "code",
   "execution_count": 5,
   "outputs": [],
   "source": [
    "boundaries = AdministrativeBoundaries(GEO_BOUNDARIES_GEOJSON_PATH)\n",
    "geo_df['state'] = boundaries.get_state_by_point(geo_df['longitude'], geo_df['latitude'])"
   ],
   "metadata": {
    "collapsed": false,
    "ExecuteTime": {
     "end_time": "2023-09-07T22:41:21.962190Z",
     "start_time": "2023-09-07T22:40:10.717651Z"
    }
   },
   "id": "a64f5544b75752ac"
  },
  {
   "cell_type": "code",
   "execution_count": 6,
   "outputs": [
    {
     "data": {
      "text/plain": "   station_id  altitude  latitude  longitude  from_date    to_date  \\\n0        3811     130.0   51.2959    13.0930 1889-01-01 1941-09-30   \n1        3811     130.0   51.2959    13.0930 1941-10-01 1947-09-30   \n2        3811     150.0   51.2959    13.0930 1947-10-01 1977-12-31   \n3        3811     150.0   51.2960    13.0928 1978-01-01 2006-05-04   \n4        3811     150.0   51.2960    13.0928 2006-05-05 2008-07-31   \n\n  station_name    state  \n0      Oschatz  Sachsen  \n1      Oschatz  Sachsen  \n2      Oschatz  Sachsen  \n3      Oschatz  Sachsen  \n4      Oschatz  Sachsen  ",
      "text/html": "<div>\n<style scoped>\n    .dataframe tbody tr th:only-of-type {\n        vertical-align: middle;\n    }\n\n    .dataframe tbody tr th {\n        vertical-align: top;\n    }\n\n    .dataframe thead th {\n        text-align: right;\n    }\n</style>\n<table border=\"1\" class=\"dataframe\">\n  <thead>\n    <tr style=\"text-align: right;\">\n      <th></th>\n      <th>station_id</th>\n      <th>altitude</th>\n      <th>latitude</th>\n      <th>longitude</th>\n      <th>from_date</th>\n      <th>to_date</th>\n      <th>station_name</th>\n      <th>state</th>\n    </tr>\n  </thead>\n  <tbody>\n    <tr>\n      <th>0</th>\n      <td>3811</td>\n      <td>130.0</td>\n      <td>51.2959</td>\n      <td>13.0930</td>\n      <td>1889-01-01</td>\n      <td>1941-09-30</td>\n      <td>Oschatz</td>\n      <td>Sachsen</td>\n    </tr>\n    <tr>\n      <th>1</th>\n      <td>3811</td>\n      <td>130.0</td>\n      <td>51.2959</td>\n      <td>13.0930</td>\n      <td>1941-10-01</td>\n      <td>1947-09-30</td>\n      <td>Oschatz</td>\n      <td>Sachsen</td>\n    </tr>\n    <tr>\n      <th>2</th>\n      <td>3811</td>\n      <td>150.0</td>\n      <td>51.2959</td>\n      <td>13.0930</td>\n      <td>1947-10-01</td>\n      <td>1977-12-31</td>\n      <td>Oschatz</td>\n      <td>Sachsen</td>\n    </tr>\n    <tr>\n      <th>3</th>\n      <td>3811</td>\n      <td>150.0</td>\n      <td>51.2960</td>\n      <td>13.0928</td>\n      <td>1978-01-01</td>\n      <td>2006-05-04</td>\n      <td>Oschatz</td>\n      <td>Sachsen</td>\n    </tr>\n    <tr>\n      <th>4</th>\n      <td>3811</td>\n      <td>150.0</td>\n      <td>51.2960</td>\n      <td>13.0928</td>\n      <td>2006-05-05</td>\n      <td>2008-07-31</td>\n      <td>Oschatz</td>\n      <td>Sachsen</td>\n    </tr>\n  </tbody>\n</table>\n</div>"
     },
     "execution_count": 6,
     "metadata": {},
     "output_type": "execute_result"
    }
   ],
   "source": [
    "geo_df.head()"
   ],
   "metadata": {
    "collapsed": false,
    "ExecuteTime": {
     "end_time": "2023-09-07T22:41:21.976138Z",
     "start_time": "2023-09-07T22:41:21.969534Z"
    }
   },
   "id": "11847a53af1b55ae"
  },
  {
   "cell_type": "code",
   "execution_count": 7,
   "outputs": [],
   "source": [
    "# Daten werden gespeichert.\n",
    "geo_df.to_parquet(os.path.join(PARQUET_FOLDER, 'geo.parquet'))\n",
    "name_df.to_parquet(os.path.join(PARQUET_FOLDER, 'name.parquet'))\n"
   ],
   "metadata": {
    "collapsed": false,
    "ExecuteTime": {
     "end_time": "2023-09-07T22:41:22.667748Z",
     "start_time": "2023-09-07T22:41:21.973880Z"
    }
   },
   "id": "bf9f5a9444af5a21"
  },
  {
   "cell_type": "code",
   "execution_count": 8,
   "outputs": [
    {
     "name": "stdout",
     "output_type": "stream",
     "text": [
      "Length after Station Filter: 76\n",
      "Length after Timestamp Filter: 19\n",
      "Found 997 folders\n",
      "Found 19 valid folders\n",
      "Length of wind data: 2895037\n"
     ]
    }
   ],
   "source": [
    "if GET_WIND:\n",
    "    # Geo Daten filter\n",
    "    valid_station_ids = set(geo_df[geo_df['state'].isin(['Berlin', 'Brandenburg'])]['station_id'].unique().tolist())\n",
    "    wind_data = []\n",
    "    \n",
    "    wind_data_folders = glob(os.path.join(DATA_FOLDER, '*'))\n",
    "    \n",
    "    # filter all folders where the third part of the split by _ is not a valid station id\n",
    "    valid_folders = [folder for folder in wind_data_folders if int(os.path.splitext(os.path.basename(folder))[0].split('_')[-4]) in valid_station_ids]\n",
    "    print(f\"Length after Station Filter: {len(valid_folders)}\")\n",
    "    \n",
    "    # filter where the fifth part of the split by _ is bigger then MIN_TIMESTAMP when parsed to timestamp.\n",
    "    valid_folders = [folder for folder in valid_folders if pd.Timestamp(os.path.splitext(os.path.basename(folder))[0].split('_')[-2]) >= MIN_TIMESTAMP]\n",
    "    print(f\"Length after Timestamp Filter: {len(valid_folders)}\")\n",
    "    \n",
    "    \n",
    "    print(f\"Found {len(wind_data_folders)} folders\")\n",
    "    print(f\"Found {len(valid_folders)} valid folders\")\n",
    "    for i, folder in enumerate(valid_folders):\n",
    "        try:\n",
    "            station_id = int(os.path.splitext(os.path.basename(folder))[0].split('_')[-4])\n",
    "        except ValueError:\n",
    "            print(f\"Could not parse station id from {folder}\")\n",
    "            continue\n",
    "        if station_id not in valid_station_ids:\n",
    "            print(f\"Station id {station_id} not in valid station ids\")\n",
    "            continue\n",
    "        wind_data.append(Wind10MinutesData(folder))\n",
    "        \n",
    "        \n",
    "    wind_df = pd.concat([wd.data for wd in wind_data])\n",
    "    wind_df = wind_df[~((wind_df['avg_direction'].isna()) & (wind_df['avg_speed'].isna()))]\n",
    "    wind_df = wind_df[wind_df['timestamp']>=MIN_TIMESTAMP]\n",
    "    \n",
    "    wind_df.to_parquet(os.path.join(PARQUET_FOLDER, 'wind.parquet'), engine='pyarrow')\n",
    "    print(f\"Length of wind data: {len(wind_df)}\")\n",
    "    wind_df.head()"
   ],
   "metadata": {
    "collapsed": false,
    "ExecuteTime": {
     "end_time": "2023-09-07T22:41:34.692923Z",
     "start_time": "2023-09-07T22:41:22.681505Z"
    }
   },
   "id": "bea640c5cecbcea6"
  },
  {
   "cell_type": "code",
   "execution_count": 9,
   "outputs": [
    {
     "data": {
      "text/plain": "   station_id           timestamp  quality  avg_speed  avg_direction\n0         430 2020-01-01 00:00:00        3        3.0          270.0\n1         430 2020-01-01 00:10:00        3        3.6          270.0\n2         430 2020-01-01 00:20:00        3        3.6          280.0\n3         430 2020-01-01 00:30:00        3        3.1          280.0\n4         430 2020-01-01 00:40:00        3        3.3          280.0",
      "text/html": "<div>\n<style scoped>\n    .dataframe tbody tr th:only-of-type {\n        vertical-align: middle;\n    }\n\n    .dataframe tbody tr th {\n        vertical-align: top;\n    }\n\n    .dataframe thead th {\n        text-align: right;\n    }\n</style>\n<table border=\"1\" class=\"dataframe\">\n  <thead>\n    <tr style=\"text-align: right;\">\n      <th></th>\n      <th>station_id</th>\n      <th>timestamp</th>\n      <th>quality</th>\n      <th>avg_speed</th>\n      <th>avg_direction</th>\n    </tr>\n  </thead>\n  <tbody>\n    <tr>\n      <th>0</th>\n      <td>430</td>\n      <td>2020-01-01 00:00:00</td>\n      <td>3</td>\n      <td>3.0</td>\n      <td>270.0</td>\n    </tr>\n    <tr>\n      <th>1</th>\n      <td>430</td>\n      <td>2020-01-01 00:10:00</td>\n      <td>3</td>\n      <td>3.6</td>\n      <td>270.0</td>\n    </tr>\n    <tr>\n      <th>2</th>\n      <td>430</td>\n      <td>2020-01-01 00:20:00</td>\n      <td>3</td>\n      <td>3.6</td>\n      <td>280.0</td>\n    </tr>\n    <tr>\n      <th>3</th>\n      <td>430</td>\n      <td>2020-01-01 00:30:00</td>\n      <td>3</td>\n      <td>3.1</td>\n      <td>280.0</td>\n    </tr>\n    <tr>\n      <th>4</th>\n      <td>430</td>\n      <td>2020-01-01 00:40:00</td>\n      <td>3</td>\n      <td>3.3</td>\n      <td>280.0</td>\n    </tr>\n  </tbody>\n</table>\n</div>"
     },
     "execution_count": 9,
     "metadata": {},
     "output_type": "execute_result"
    }
   ],
   "source": [
    "wind_df.head()"
   ],
   "metadata": {
    "collapsed": false,
    "ExecuteTime": {
     "end_time": "2023-09-07T22:41:34.702255Z",
     "start_time": "2023-09-07T22:41:34.691535Z"
    }
   },
   "id": "2a519edddd4dfb3f"
  },
  {
   "cell_type": "code",
   "execution_count": 10,
   "outputs": [
    {
     "name": "stdout",
     "output_type": "stream",
     "text": [
      "<class 'pandas.core.frame.DataFrame'>\n",
      "Index: 2895037 entries, 0 to 157823\n",
      "Data columns (total 5 columns):\n",
      " #   Column         Dtype         \n",
      "---  ------         -----         \n",
      " 0   station_id     int64         \n",
      " 1   timestamp      datetime64[ns]\n",
      " 2   quality        int64         \n",
      " 3   avg_speed      float64       \n",
      " 4   avg_direction  float64       \n",
      "dtypes: datetime64[ns](1), float64(2), int64(2)\n",
      "memory usage: 132.5 MB\n"
     ]
    }
   ],
   "source": [
    "wind_df.info()"
   ],
   "metadata": {
    "collapsed": false,
    "ExecuteTime": {
     "end_time": "2023-09-07T22:41:34.742241Z",
     "start_time": "2023-09-07T22:41:34.702858Z"
    }
   },
   "id": "dffff159c9436223"
  },
  {
   "cell_type": "code",
   "execution_count": 10,
   "outputs": [],
   "source": [],
   "metadata": {
    "collapsed": false,
    "ExecuteTime": {
     "end_time": "2023-09-07T22:41:34.743771Z",
     "start_time": "2023-09-07T22:41:34.741904Z"
    }
   },
   "id": "f1f0189820877506"
  }
 ],
 "metadata": {
  "kernelspec": {
   "display_name": "Python 3",
   "language": "python",
   "name": "python3"
  },
  "language_info": {
   "codemirror_mode": {
    "name": "ipython",
    "version": 2
   },
   "file_extension": ".py",
   "mimetype": "text/x-python",
   "name": "python",
   "nbconvert_exporter": "python",
   "pygments_lexer": "ipython2",
   "version": "2.7.6"
  }
 },
 "nbformat": 4,
 "nbformat_minor": 5
}
