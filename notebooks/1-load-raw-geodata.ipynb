{
 "cells": [
  {
   "cell_type": "markdown",
   "source": [
    "# Geodaten laden\n",
    "\n",
    "Um später Stationen nach Bundesländern zu trennen, werden Geodaten benötigt, die die Grenzen der jeweiligen Bundesländer darstellen. So können später Stationspositionsen gefiltert werden.\n",
    "\n",
    "Diese werden einen Github Repository entnommen."
   ],
   "metadata": {
    "collapsed": false
   },
   "id": "5304f19394b3f59c"
  },
  {
   "cell_type": "code",
   "execution_count": 2,
   "outputs": [],
   "source": [
    "import requests\n",
    "import os\n",
    "from dotenv import load_dotenv\n",
    "\n",
    "load_dotenv()\n",
    "\n",
    "ADMIN_BOUNDERIES_FEDERAL_STATES_URL = 'https://raw.githubusercontent.com/isellsoap/deutschlandGeoJSON/main/2_bundeslaender/1_sehr_hoch.geo.json'\n",
    "\n",
    "TARGET_FILE = os.path.join(os.getenv('PROJECT_DIR'), 'data', 'raw', 'federal_states.geojson')\n"
   ],
   "metadata": {
    "collapsed": false,
    "ExecuteTime": {
     "end_time": "2023-08-30T20:28:56.677849Z",
     "start_time": "2023-08-30T20:28:56.594036Z"
    }
   },
   "id": "initial_id"
  },
  {
   "cell_type": "code",
   "execution_count": 3,
   "outputs": [],
   "source": [
    "\n",
    "response = requests.get(ADMIN_BOUNDERIES_FEDERAL_STATES_URL)\n",
    "\n",
    "if not response.ok:\n",
    "    raise Exception('Could not download federal states bounderies')\n",
    "\n",
    "# create folder if not exists\n",
    "if not os.path.exists(os.path.dirname(TARGET_FILE)):\n",
    "    os.makedirs(os.path.dirname(TARGET_FILE))\n",
    "\n",
    "# save to targetfile\n",
    "with open(TARGET_FILE, 'w') as f:\n",
    "    f.write(response.text)\n",
    "\n",
    "\n"
   ],
   "metadata": {
    "collapsed": false,
    "ExecuteTime": {
     "end_time": "2023-08-30T20:28:58.137730Z",
     "start_time": "2023-08-30T20:28:56.679682Z"
    }
   },
   "id": "d29b8095df4ca900"
  },
  {
   "cell_type": "markdown",
   "source": [
    "## Überprüfen der geladenen Daten\n",
    "\n",
    "Die geladen Daten werden kurz überprüft."
   ],
   "metadata": {
    "collapsed": false
   },
   "id": "30c2dc8e1e1b9b30"
  },
  {
   "cell_type": "code",
   "execution_count": 4,
   "outputs": [
    {
     "name": "stdout",
     "output_type": "stream",
     "text": [
      "Baden-Württemberg\n",
      "Bayern\n",
      "Berlin\n",
      "Brandenburg\n",
      "Bremen\n",
      "Hamburg\n",
      "Hessen\n",
      "Mecklenburg-Vorpommern\n",
      "Niedersachsen\n",
      "Nordrhein-Westfalen\n",
      "Rheinland-Pfalz\n",
      "Saarland\n",
      "Sachsen-Anhalt\n",
      "Sachsen\n",
      "Schleswig-Holstein\n",
      "Thüringen\n"
     ]
    }
   ],
   "source": [
    "data = response.json()\n",
    "for i in data['features']:\n",
    "    print(i['properties']['name'])"
   ],
   "metadata": {
    "collapsed": false,
    "ExecuteTime": {
     "end_time": "2023-08-30T20:28:58.326987Z",
     "start_time": "2023-08-30T20:28:58.316637Z"
    }
   },
   "id": "900224d81aced603"
  },
  {
   "cell_type": "code",
   "execution_count": 4,
   "outputs": [],
   "source": [],
   "metadata": {
    "collapsed": false,
    "ExecuteTime": {
     "end_time": "2023-08-30T20:28:58.327281Z",
     "start_time": "2023-08-30T20:28:58.321865Z"
    }
   },
   "id": "548439661e74542b"
  }
 ],
 "metadata": {
  "kernelspec": {
   "display_name": "Python 3",
   "language": "python",
   "name": "python3"
  },
  "language_info": {
   "codemirror_mode": {
    "name": "ipython",
    "version": 2
   },
   "file_extension": ".py",
   "mimetype": "text/x-python",
   "name": "python",
   "nbconvert_exporter": "python",
   "pygments_lexer": "ipython2",
   "version": "2.7.6"
  }
 },
 "nbformat": 4,
 "nbformat_minor": 5
}
