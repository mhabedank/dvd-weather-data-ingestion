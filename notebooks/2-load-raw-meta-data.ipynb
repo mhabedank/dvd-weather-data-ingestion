{
 "cells": [
  {
   "cell_type": "markdown",
   "source": [
    "# Metadaten laden\n",
    "\n",
    "Die Metadaten enthalten informationen zur Position und Namen der Station. Diese haben sich über die Zeit leicht verändert. Daher muss dies später beim verwenden der Daten berücksichtigt werden. Zudem helfen die Metadaten, nach Bundesland zu filtern."
   ],
   "metadata": {
    "collapsed": false
   },
   "id": "bea6b27a27283ea"
  },
  {
   "cell_type": "code",
   "execution_count": 15,
   "outputs": [],
   "source": [
    "import requests\n",
    "from bs4 import BeautifulSoup\n",
    "import os\n",
    "import zipfile\n",
    "\n",
    "META_DATA_URL = \"https://opendata.dwd.de/climate_environment/CDC/observations_germany/climate/10_minutes/wind/meta_data/\"\n",
    "\n",
    "TARGET_FOLDER = os.path.join(\"..\", \"data\", \"raw\", \"station_meta\")\n",
    "\n",
    "TARGET_UNPACKED_FOLDER = os.path.join(\"..\", \"data\", \"interim\", \"station_meta\")"
   ],
   "metadata": {
    "collapsed": false,
    "ExecuteTime": {
     "start_time": "2023-07-29T12:48:43.414329Z"
    }
   },
   "id": "initial_id"
  },
  {
   "cell_type": "code",
   "execution_count": 9,
   "outputs": [],
   "source": [
    "\n",
    "def get_meta_data_url_list():\n",
    "    '''\n",
    "    Die Metadaten liegen in verschiedenen Dateien, die über verschiedene URLs zur Verfügung gestellt werden. Die Liste der URLs wird hier erstellt.\n",
    "    :return: \n",
    "    '''\n",
    "    r = requests.get(META_DATA_URL)\n",
    "    r.raise_for_status()\n",
    "    # get all urls from the html with the ending .zip\n",
    "    soup = BeautifulSoup(r.text, \"html.parser\")\n",
    "    urls = [META_DATA_URL+ a[\"href\"] for a in soup.find_all(\"a\") if a[\"href\"].endswith(\".zip\")]\n",
    "    return urls\n",
    "\n",
    "urls = get_meta_data_url_list()"
   ],
   "metadata": {
    "collapsed": false,
    "ExecuteTime": {
     "end_time": "2023-07-29T12:41:07.288045Z",
     "start_time": "2023-07-29T12:41:07.054565Z"
    }
   },
   "id": "640c74f67d81206a"
  }
 ],
 "metadata": {
  "kernelspec": {
   "display_name": "Python 3",
   "language": "python",
   "name": "python3"
  },
  "language_info": {
   "codemirror_mode": {
    "name": "ipython",
    "version": 2
   },
   "file_extension": ".py",
   "mimetype": "text/x-python",
   "name": "python",
   "nbconvert_exporter": "python",
   "pygments_lexer": "ipython2",
   "version": "2.7.6"
  }
 },
 "nbformat": 4,
 "nbformat_minor": 5
}
