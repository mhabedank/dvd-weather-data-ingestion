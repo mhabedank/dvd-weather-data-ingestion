{
 "cells": [
  {
   "cell_type": "markdown",
   "source": [
    "# Metadaten laden\n",
    "\n",
    "Die Metadaten enthalten informationen zur Position und Namen der Station. Diese haben sich über die Zeit leicht verändert. Daher muss dies später beim Verwenden der Daten berücksichtigt werden. Zudem helfen die Metadaten, nach Bundesland zu filtern."
   ],
   "metadata": {
    "collapsed": false
   },
   "id": "bea6b27a27283ea"
  },
  {
   "cell_type": "code",
   "execution_count": 11,
   "outputs": [],
   "source": [
    "import requests\n",
    "from bs4 import BeautifulSoup\n",
    "import os\n",
    "\n",
    "META_DATA_URL = \"https://opendata.dwd.de/climate_environment/CDC/observations_germany/climate/10_minutes/wind/meta_data/\"\n",
    "\n",
    "TARGET_FOLDER = os.path.join(\"..\", \"data\", \"raw\", \"station_meta\")\n",
    "\n",
    "TARGET_UNPACKED_FOLDER = os.path.join(\"..\", \"data\", \"interim\", \"station_meta\")"
   ],
   "metadata": {
    "collapsed": false,
    "ExecuteTime": {
     "end_time": "2023-09-07T22:26:03.237253Z",
     "start_time": "2023-09-07T22:26:03.233989Z"
    }
   },
   "id": "initial_id"
  },
  {
   "cell_type": "code",
   "execution_count": null,
   "outputs": [
    {
     "name": "stdout",
     "output_type": "stream",
     "text": [
      "Downloading https://opendata.dwd.de/climate_environment/CDC/observations_germany/climate/10_minutes/wind/meta_data/Meta_Daten_zehn_min_ff_00003.zip to ../data/raw/station_meta/Meta_Daten_zehn_min_ff_00003.zip\n",
      "Downloading https://opendata.dwd.de/climate_environment/CDC/observations_germany/climate/10_minutes/wind/meta_data/Meta_Daten_zehn_min_ff_00011.zip to ../data/raw/station_meta/Meta_Daten_zehn_min_ff_00011.zip\n",
      "Downloading https://opendata.dwd.de/climate_environment/CDC/observations_germany/climate/10_minutes/wind/meta_data/Meta_Daten_zehn_min_ff_00090.zip to ../data/raw/station_meta/Meta_Daten_zehn_min_ff_00090.zip\n",
      "Downloading https://opendata.dwd.de/climate_environment/CDC/observations_germany/climate/10_minutes/wind/meta_data/Meta_Daten_zehn_min_ff_00096.zip to ../data/raw/station_meta/Meta_Daten_zehn_min_ff_00096.zip\n",
      "Downloading https://opendata.dwd.de/climate_environment/CDC/observations_germany/climate/10_minutes/wind/meta_data/Meta_Daten_zehn_min_ff_00161.zip to ../data/raw/station_meta/Meta_Daten_zehn_min_ff_00161.zip\n",
      "Downloading https://opendata.dwd.de/climate_environment/CDC/observations_germany/climate/10_minutes/wind/meta_data/Meta_Daten_zehn_min_ff_00164.zip to ../data/raw/station_meta/Meta_Daten_zehn_min_ff_00164.zip\n",
      "Downloading https://opendata.dwd.de/climate_environment/CDC/observations_germany/climate/10_minutes/wind/meta_data/Meta_Daten_zehn_min_ff_00183.zip to ../data/raw/station_meta/Meta_Daten_zehn_min_ff_00183.zip\n",
      "Downloading https://opendata.dwd.de/climate_environment/CDC/observations_germany/climate/10_minutes/wind/meta_data/Meta_Daten_zehn_min_ff_00197.zip to ../data/raw/station_meta/Meta_Daten_zehn_min_ff_00197.zip\n",
      "Downloading https://opendata.dwd.de/climate_environment/CDC/observations_germany/climate/10_minutes/wind/meta_data/Meta_Daten_zehn_min_ff_00198.zip to ../data/raw/station_meta/Meta_Daten_zehn_min_ff_00198.zip\n",
      "Downloading https://opendata.dwd.de/climate_environment/CDC/observations_germany/climate/10_minutes/wind/meta_data/Meta_Daten_zehn_min_ff_00222.zip to ../data/raw/station_meta/Meta_Daten_zehn_min_ff_00222.zip\n",
      "Downloading https://opendata.dwd.de/climate_environment/CDC/observations_germany/climate/10_minutes/wind/meta_data/Meta_Daten_zehn_min_ff_00232.zip to ../data/raw/station_meta/Meta_Daten_zehn_min_ff_00232.zip\n",
      "Downloading https://opendata.dwd.de/climate_environment/CDC/observations_germany/climate/10_minutes/wind/meta_data/Meta_Daten_zehn_min_ff_00282.zip to ../data/raw/station_meta/Meta_Daten_zehn_min_ff_00282.zip\n",
      "Downloading https://opendata.dwd.de/climate_environment/CDC/observations_germany/climate/10_minutes/wind/meta_data/Meta_Daten_zehn_min_ff_00298.zip to ../data/raw/station_meta/Meta_Daten_zehn_min_ff_00298.zip\n",
      "Downloading https://opendata.dwd.de/climate_environment/CDC/observations_germany/climate/10_minutes/wind/meta_data/Meta_Daten_zehn_min_ff_00303.zip to ../data/raw/station_meta/Meta_Daten_zehn_min_ff_00303.zip\n",
      "Downloading https://opendata.dwd.de/climate_environment/CDC/observations_germany/climate/10_minutes/wind/meta_data/Meta_Daten_zehn_min_ff_00342.zip to ../data/raw/station_meta/Meta_Daten_zehn_min_ff_00342.zip\n",
      "Downloading https://opendata.dwd.de/climate_environment/CDC/observations_germany/climate/10_minutes/wind/meta_data/Meta_Daten_zehn_min_ff_00348.zip to ../data/raw/station_meta/Meta_Daten_zehn_min_ff_00348.zip\n",
      "Downloading https://opendata.dwd.de/climate_environment/CDC/observations_germany/climate/10_minutes/wind/meta_data/Meta_Daten_zehn_min_ff_00399.zip to ../data/raw/station_meta/Meta_Daten_zehn_min_ff_00399.zip\n",
      "Downloading https://opendata.dwd.de/climate_environment/CDC/observations_germany/climate/10_minutes/wind/meta_data/Meta_Daten_zehn_min_ff_00400.zip to ../data/raw/station_meta/Meta_Daten_zehn_min_ff_00400.zip\n",
      "Downloading https://opendata.dwd.de/climate_environment/CDC/observations_germany/climate/10_minutes/wind/meta_data/Meta_Daten_zehn_min_ff_00427.zip to ../data/raw/station_meta/Meta_Daten_zehn_min_ff_00427.zip\n",
      "Downloading https://opendata.dwd.de/climate_environment/CDC/observations_germany/climate/10_minutes/wind/meta_data/Meta_Daten_zehn_min_ff_00430.zip to ../data/raw/station_meta/Meta_Daten_zehn_min_ff_00430.zip\n",
      "Downloading https://opendata.dwd.de/climate_environment/CDC/observations_germany/climate/10_minutes/wind/meta_data/Meta_Daten_zehn_min_ff_00433.zip to ../data/raw/station_meta/Meta_Daten_zehn_min_ff_00433.zip\n",
      "Downloading https://opendata.dwd.de/climate_environment/CDC/observations_germany/climate/10_minutes/wind/meta_data/Meta_Daten_zehn_min_ff_00460.zip to ../data/raw/station_meta/Meta_Daten_zehn_min_ff_00460.zip\n",
      "Downloading https://opendata.dwd.de/climate_environment/CDC/observations_germany/climate/10_minutes/wind/meta_data/Meta_Daten_zehn_min_ff_00554.zip to ../data/raw/station_meta/Meta_Daten_zehn_min_ff_00554.zip\n",
      "Downloading https://opendata.dwd.de/climate_environment/CDC/observations_germany/climate/10_minutes/wind/meta_data/Meta_Daten_zehn_min_ff_00591.zip to ../data/raw/station_meta/Meta_Daten_zehn_min_ff_00591.zip\n",
      "Downloading https://opendata.dwd.de/climate_environment/CDC/observations_germany/climate/10_minutes/wind/meta_data/Meta_Daten_zehn_min_ff_00596.zip to ../data/raw/station_meta/Meta_Daten_zehn_min_ff_00596.zip\n",
      "Downloading https://opendata.dwd.de/climate_environment/CDC/observations_germany/climate/10_minutes/wind/meta_data/Meta_Daten_zehn_min_ff_00603.zip to ../data/raw/station_meta/Meta_Daten_zehn_min_ff_00603.zip\n",
      "Downloading https://opendata.dwd.de/climate_environment/CDC/observations_germany/climate/10_minutes/wind/meta_data/Meta_Daten_zehn_min_ff_00619.zip to ../data/raw/station_meta/Meta_Daten_zehn_min_ff_00619.zip\n",
      "Downloading https://opendata.dwd.de/climate_environment/CDC/observations_germany/climate/10_minutes/wind/meta_data/Meta_Daten_zehn_min_ff_00642.zip to ../data/raw/station_meta/Meta_Daten_zehn_min_ff_00642.zip\n",
      "Downloading https://opendata.dwd.de/climate_environment/CDC/observations_germany/climate/10_minutes/wind/meta_data/Meta_Daten_zehn_min_ff_00656.zip to ../data/raw/station_meta/Meta_Daten_zehn_min_ff_00656.zip\n",
      "Downloading https://opendata.dwd.de/climate_environment/CDC/observations_germany/climate/10_minutes/wind/meta_data/Meta_Daten_zehn_min_ff_00662.zip to ../data/raw/station_meta/Meta_Daten_zehn_min_ff_00662.zip\n",
      "Downloading https://opendata.dwd.de/climate_environment/CDC/observations_germany/climate/10_minutes/wind/meta_data/Meta_Daten_zehn_min_ff_00691.zip to ../data/raw/station_meta/Meta_Daten_zehn_min_ff_00691.zip\n",
      "Downloading https://opendata.dwd.de/climate_environment/CDC/observations_germany/climate/10_minutes/wind/meta_data/Meta_Daten_zehn_min_ff_00701.zip to ../data/raw/station_meta/Meta_Daten_zehn_min_ff_00701.zip\n",
      "Downloading https://opendata.dwd.de/climate_environment/CDC/observations_germany/climate/10_minutes/wind/meta_data/Meta_Daten_zehn_min_ff_00704.zip to ../data/raw/station_meta/Meta_Daten_zehn_min_ff_00704.zip\n",
      "Downloading https://opendata.dwd.de/climate_environment/CDC/observations_germany/climate/10_minutes/wind/meta_data/Meta_Daten_zehn_min_ff_00722.zip to ../data/raw/station_meta/Meta_Daten_zehn_min_ff_00722.zip\n",
      "Downloading https://opendata.dwd.de/climate_environment/CDC/observations_germany/climate/10_minutes/wind/meta_data/Meta_Daten_zehn_min_ff_00788.zip to ../data/raw/station_meta/Meta_Daten_zehn_min_ff_00788.zip\n",
      "Downloading https://opendata.dwd.de/climate_environment/CDC/observations_germany/climate/10_minutes/wind/meta_data/Meta_Daten_zehn_min_ff_00840.zip to ../data/raw/station_meta/Meta_Daten_zehn_min_ff_00840.zip\n",
      "Downloading https://opendata.dwd.de/climate_environment/CDC/observations_germany/climate/10_minutes/wind/meta_data/Meta_Daten_zehn_min_ff_00850.zip to ../data/raw/station_meta/Meta_Daten_zehn_min_ff_00850.zip\n",
      "Downloading https://opendata.dwd.de/climate_environment/CDC/observations_germany/climate/10_minutes/wind/meta_data/Meta_Daten_zehn_min_ff_00853.zip to ../data/raw/station_meta/Meta_Daten_zehn_min_ff_00853.zip\n",
      "Downloading https://opendata.dwd.de/climate_environment/CDC/observations_germany/climate/10_minutes/wind/meta_data/Meta_Daten_zehn_min_ff_00856.zip to ../data/raw/station_meta/Meta_Daten_zehn_min_ff_00856.zip\n",
      "Downloading https://opendata.dwd.de/climate_environment/CDC/observations_germany/climate/10_minutes/wind/meta_data/Meta_Daten_zehn_min_ff_00867.zip to ../data/raw/station_meta/Meta_Daten_zehn_min_ff_00867.zip\n",
      "Downloading https://opendata.dwd.de/climate_environment/CDC/observations_germany/climate/10_minutes/wind/meta_data/Meta_Daten_zehn_min_ff_00880.zip to ../data/raw/station_meta/Meta_Daten_zehn_min_ff_00880.zip\n",
      "Downloading https://opendata.dwd.de/climate_environment/CDC/observations_germany/climate/10_minutes/wind/meta_data/Meta_Daten_zehn_min_ff_00891.zip to ../data/raw/station_meta/Meta_Daten_zehn_min_ff_00891.zip\n",
      "Downloading https://opendata.dwd.de/climate_environment/CDC/observations_germany/climate/10_minutes/wind/meta_data/Meta_Daten_zehn_min_ff_00953.zip to ../data/raw/station_meta/Meta_Daten_zehn_min_ff_00953.zip\n",
      "Downloading https://opendata.dwd.de/climate_environment/CDC/observations_germany/climate/10_minutes/wind/meta_data/Meta_Daten_zehn_min_ff_00963.zip to ../data/raw/station_meta/Meta_Daten_zehn_min_ff_00963.zip\n",
      "Downloading https://opendata.dwd.de/climate_environment/CDC/observations_germany/climate/10_minutes/wind/meta_data/Meta_Daten_zehn_min_ff_01001.zip to ../data/raw/station_meta/Meta_Daten_zehn_min_ff_01001.zip\n",
      "Downloading https://opendata.dwd.de/climate_environment/CDC/observations_germany/climate/10_minutes/wind/meta_data/Meta_Daten_zehn_min_ff_01011.zip to ../data/raw/station_meta/Meta_Daten_zehn_min_ff_01011.zip\n",
      "Downloading https://opendata.dwd.de/climate_environment/CDC/observations_germany/climate/10_minutes/wind/meta_data/Meta_Daten_zehn_min_ff_01013.zip to ../data/raw/station_meta/Meta_Daten_zehn_min_ff_01013.zip\n",
      "Downloading https://opendata.dwd.de/climate_environment/CDC/observations_germany/climate/10_minutes/wind/meta_data/Meta_Daten_zehn_min_ff_01048.zip to ../data/raw/station_meta/Meta_Daten_zehn_min_ff_01048.zip\n",
      "Downloading https://opendata.dwd.de/climate_environment/CDC/observations_germany/climate/10_minutes/wind/meta_data/Meta_Daten_zehn_min_ff_01078.zip to ../data/raw/station_meta/Meta_Daten_zehn_min_ff_01078.zip\n",
      "Downloading https://opendata.dwd.de/climate_environment/CDC/observations_germany/climate/10_minutes/wind/meta_data/Meta_Daten_zehn_min_ff_01200.zip to ../data/raw/station_meta/Meta_Daten_zehn_min_ff_01200.zip\n",
      "Downloading https://opendata.dwd.de/climate_environment/CDC/observations_germany/climate/10_minutes/wind/meta_data/Meta_Daten_zehn_min_ff_01219.zip to ../data/raw/station_meta/Meta_Daten_zehn_min_ff_01219.zip\n",
      "Downloading https://opendata.dwd.de/climate_environment/CDC/observations_germany/climate/10_minutes/wind/meta_data/Meta_Daten_zehn_min_ff_01262.zip to ../data/raw/station_meta/Meta_Daten_zehn_min_ff_01262.zip\n",
      "Downloading https://opendata.dwd.de/climate_environment/CDC/observations_germany/climate/10_minutes/wind/meta_data/Meta_Daten_zehn_min_ff_01270.zip to ../data/raw/station_meta/Meta_Daten_zehn_min_ff_01270.zip\n",
      "Downloading https://opendata.dwd.de/climate_environment/CDC/observations_germany/climate/10_minutes/wind/meta_data/Meta_Daten_zehn_min_ff_01303.zip to ../data/raw/station_meta/Meta_Daten_zehn_min_ff_01303.zip\n",
      "Downloading https://opendata.dwd.de/climate_environment/CDC/observations_germany/climate/10_minutes/wind/meta_data/Meta_Daten_zehn_min_ff_01346.zip to ../data/raw/station_meta/Meta_Daten_zehn_min_ff_01346.zip\n",
      "Downloading https://opendata.dwd.de/climate_environment/CDC/observations_germany/climate/10_minutes/wind/meta_data/Meta_Daten_zehn_min_ff_01357.zip to ../data/raw/station_meta/Meta_Daten_zehn_min_ff_01357.zip\n",
      "Downloading https://opendata.dwd.de/climate_environment/CDC/observations_germany/climate/10_minutes/wind/meta_data/Meta_Daten_zehn_min_ff_01358.zip to ../data/raw/station_meta/Meta_Daten_zehn_min_ff_01358.zip\n",
      "Downloading https://opendata.dwd.de/climate_environment/CDC/observations_germany/climate/10_minutes/wind/meta_data/Meta_Daten_zehn_min_ff_01379.zip to ../data/raw/station_meta/Meta_Daten_zehn_min_ff_01379.zip\n",
      "Downloading https://opendata.dwd.de/climate_environment/CDC/observations_germany/climate/10_minutes/wind/meta_data/Meta_Daten_zehn_min_ff_01420.zip to ../data/raw/station_meta/Meta_Daten_zehn_min_ff_01420.zip\n",
      "Downloading https://opendata.dwd.de/climate_environment/CDC/observations_germany/climate/10_minutes/wind/meta_data/Meta_Daten_zehn_min_ff_01443.zip to ../data/raw/station_meta/Meta_Daten_zehn_min_ff_01443.zip\n",
      "Downloading https://opendata.dwd.de/climate_environment/CDC/observations_germany/climate/10_minutes/wind/meta_data/Meta_Daten_zehn_min_ff_01468.zip to ../data/raw/station_meta/Meta_Daten_zehn_min_ff_01468.zip\n",
      "Downloading https://opendata.dwd.de/climate_environment/CDC/observations_germany/climate/10_minutes/wind/meta_data/Meta_Daten_zehn_min_ff_01490.zip to ../data/raw/station_meta/Meta_Daten_zehn_min_ff_01490.zip\n",
      "Downloading https://opendata.dwd.de/climate_environment/CDC/observations_germany/climate/10_minutes/wind/meta_data/Meta_Daten_zehn_min_ff_01503.zip to ../data/raw/station_meta/Meta_Daten_zehn_min_ff_01503.zip\n",
      "Downloading https://opendata.dwd.de/climate_environment/CDC/observations_germany/climate/10_minutes/wind/meta_data/Meta_Daten_zehn_min_ff_01544.zip to ../data/raw/station_meta/Meta_Daten_zehn_min_ff_01544.zip\n",
      "Downloading https://opendata.dwd.de/climate_environment/CDC/observations_germany/climate/10_minutes/wind/meta_data/Meta_Daten_zehn_min_ff_01550.zip to ../data/raw/station_meta/Meta_Daten_zehn_min_ff_01550.zip\n",
      "Downloading https://opendata.dwd.de/climate_environment/CDC/observations_germany/climate/10_minutes/wind/meta_data/Meta_Daten_zehn_min_ff_01580.zip to ../data/raw/station_meta/Meta_Daten_zehn_min_ff_01580.zip\n",
      "Downloading https://opendata.dwd.de/climate_environment/CDC/observations_germany/climate/10_minutes/wind/meta_data/Meta_Daten_zehn_min_ff_01587.zip to ../data/raw/station_meta/Meta_Daten_zehn_min_ff_01587.zip\n",
      "Downloading https://opendata.dwd.de/climate_environment/CDC/observations_germany/climate/10_minutes/wind/meta_data/Meta_Daten_zehn_min_ff_01605.zip to ../data/raw/station_meta/Meta_Daten_zehn_min_ff_01605.zip\n",
      "Downloading https://opendata.dwd.de/climate_environment/CDC/observations_germany/climate/10_minutes/wind/meta_data/Meta_Daten_zehn_min_ff_01612.zip to ../data/raw/station_meta/Meta_Daten_zehn_min_ff_01612.zip\n",
      "Downloading https://opendata.dwd.de/climate_environment/CDC/observations_germany/climate/10_minutes/wind/meta_data/Meta_Daten_zehn_min_ff_01639.zip to ../data/raw/station_meta/Meta_Daten_zehn_min_ff_01639.zip\n",
      "Downloading https://opendata.dwd.de/climate_environment/CDC/observations_germany/climate/10_minutes/wind/meta_data/Meta_Daten_zehn_min_ff_01684.zip to ../data/raw/station_meta/Meta_Daten_zehn_min_ff_01684.zip\n",
      "Downloading https://opendata.dwd.de/climate_environment/CDC/observations_germany/climate/10_minutes/wind/meta_data/Meta_Daten_zehn_min_ff_01691.zip to ../data/raw/station_meta/Meta_Daten_zehn_min_ff_01691.zip\n",
      "Downloading https://opendata.dwd.de/climate_environment/CDC/observations_germany/climate/10_minutes/wind/meta_data/Meta_Daten_zehn_min_ff_01694.zip to ../data/raw/station_meta/Meta_Daten_zehn_min_ff_01694.zip\n",
      "Downloading https://opendata.dwd.de/climate_environment/CDC/observations_germany/climate/10_minutes/wind/meta_data/Meta_Daten_zehn_min_ff_01757.zip to ../data/raw/station_meta/Meta_Daten_zehn_min_ff_01757.zip\n",
      "Downloading https://opendata.dwd.de/climate_environment/CDC/observations_germany/climate/10_minutes/wind/meta_data/Meta_Daten_zehn_min_ff_01759.zip to ../data/raw/station_meta/Meta_Daten_zehn_min_ff_01759.zip\n",
      "Downloading https://opendata.dwd.de/climate_environment/CDC/observations_germany/climate/10_minutes/wind/meta_data/Meta_Daten_zehn_min_ff_01766.zip to ../data/raw/station_meta/Meta_Daten_zehn_min_ff_01766.zip\n",
      "Downloading https://opendata.dwd.de/climate_environment/CDC/observations_germany/climate/10_minutes/wind/meta_data/Meta_Daten_zehn_min_ff_01803.zip to ../data/raw/station_meta/Meta_Daten_zehn_min_ff_01803.zip\n",
      "Downloading https://opendata.dwd.de/climate_environment/CDC/observations_germany/climate/10_minutes/wind/meta_data/Meta_Daten_zehn_min_ff_01832.zip to ../data/raw/station_meta/Meta_Daten_zehn_min_ff_01832.zip\n",
      "Downloading https://opendata.dwd.de/climate_environment/CDC/observations_germany/climate/10_minutes/wind/meta_data/Meta_Daten_zehn_min_ff_01869.zip to ../data/raw/station_meta/Meta_Daten_zehn_min_ff_01869.zip\n",
      "Downloading https://opendata.dwd.de/climate_environment/CDC/observations_germany/climate/10_minutes/wind/meta_data/Meta_Daten_zehn_min_ff_01886.zip to ../data/raw/station_meta/Meta_Daten_zehn_min_ff_01886.zip\n",
      "Downloading https://opendata.dwd.de/climate_environment/CDC/observations_germany/climate/10_minutes/wind/meta_data/Meta_Daten_zehn_min_ff_01957.zip to ../data/raw/station_meta/Meta_Daten_zehn_min_ff_01957.zip\n",
      "Downloading https://opendata.dwd.de/climate_environment/CDC/observations_germany/climate/10_minutes/wind/meta_data/Meta_Daten_zehn_min_ff_01963.zip to ../data/raw/station_meta/Meta_Daten_zehn_min_ff_01963.zip\n",
      "Downloading https://opendata.dwd.de/climate_environment/CDC/observations_germany/climate/10_minutes/wind/meta_data/Meta_Daten_zehn_min_ff_01975.zip to ../data/raw/station_meta/Meta_Daten_zehn_min_ff_01975.zip\n",
      "Downloading https://opendata.dwd.de/climate_environment/CDC/observations_germany/climate/10_minutes/wind/meta_data/Meta_Daten_zehn_min_ff_01993.zip to ../data/raw/station_meta/Meta_Daten_zehn_min_ff_01993.zip\n",
      "Downloading https://opendata.dwd.de/climate_environment/CDC/observations_germany/climate/10_minutes/wind/meta_data/Meta_Daten_zehn_min_ff_02014.zip to ../data/raw/station_meta/Meta_Daten_zehn_min_ff_02014.zip\n",
      "Downloading https://opendata.dwd.de/climate_environment/CDC/observations_germany/climate/10_minutes/wind/meta_data/Meta_Daten_zehn_min_ff_02023.zip to ../data/raw/station_meta/Meta_Daten_zehn_min_ff_02023.zip\n",
      "Downloading https://opendata.dwd.de/climate_environment/CDC/observations_germany/climate/10_minutes/wind/meta_data/Meta_Daten_zehn_min_ff_02044.zip to ../data/raw/station_meta/Meta_Daten_zehn_min_ff_02044.zip\n",
      "Downloading https://opendata.dwd.de/climate_environment/CDC/observations_germany/climate/10_minutes/wind/meta_data/Meta_Daten_zehn_min_ff_02055.zip to ../data/raw/station_meta/Meta_Daten_zehn_min_ff_02055.zip\n",
      "Downloading https://opendata.dwd.de/climate_environment/CDC/observations_germany/climate/10_minutes/wind/meta_data/Meta_Daten_zehn_min_ff_02100.zip to ../data/raw/station_meta/Meta_Daten_zehn_min_ff_02100.zip\n"
     ]
    }
   ],
   "source": [
    "\n",
    "def get_meta_data_url_list():\n",
    "    '''\n",
    "    Die Metadaten liegen in verschiedenen Dateien, die über verschiedene URLs zur Verfügung gestellt werden. Die Liste der URLs wird hier erstellt.\n",
    "    :return: \n",
    "    '''\n",
    "    r = requests.get(META_DATA_URL)\n",
    "    r.raise_for_status()\n",
    "    # get all urls from the html with the ending .zip\n",
    "    soup = BeautifulSoup(r.text, \"html.parser\")\n",
    "    urls = [META_DATA_URL+ a[\"href\"] for a in soup.find_all(\"a\") if a[\"href\"].endswith(\".zip\")]\n",
    "    return urls\n",
    "\n",
    "urls = get_meta_data_url_list()\n",
    "\n",
    "for url in urls:\n",
    "    filename = url.split(\"/\")[-1]\n",
    "    target_path = os.path.join(TARGET_FOLDER, filename)\n",
    "    if not os.path.exists(target_path):\n",
    "        print(f\"Downloading {url} to {target_path}\")\n",
    "        response = requests.get(META_DATA_URL + url)\n",
    "        with open(target_path, \"wb\") as f:\n",
    "            f.write(response.content)\n",
    "    else:\n",
    "        print(f\"Skipping {url} as {target_path} already exists\")"
   ],
   "metadata": {
    "collapsed": false,
    "is_executing": true,
    "ExecuteTime": {
     "start_time": "2023-09-07T22:26:03.242468Z"
    }
   },
   "id": "640c74f67d81206a"
  }
 ],
 "metadata": {
  "kernelspec": {
   "display_name": "Python 3",
   "language": "python",
   "name": "python3"
  },
  "language_info": {
   "codemirror_mode": {
    "name": "ipython",
    "version": 2
   },
   "file_extension": ".py",
   "mimetype": "text/x-python",
   "name": "python",
   "nbconvert_exporter": "python",
   "pygments_lexer": "ipython2",
   "version": "2.7.6"
  }
 },
 "nbformat": 4,
 "nbformat_minor": 5
}
