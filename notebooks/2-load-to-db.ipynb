{
 "cells": [
  {
   "cell_type": "code",
   "execution_count": 1,
   "outputs": [],
   "source": [
    "import pandas as pd\n",
    "from dotenv import load_dotenv\n",
    "import os\n",
    "from src.models import db, Station, StationName, StationLocation, Wind10Minutes, model_init\n",
    "import numpy as np\n",
    "\n",
    "load_dotenv()\n",
    "\n",
    "model_init()"
   ],
   "metadata": {
    "collapsed": false,
    "ExecuteTime": {
     "end_time": "2023-08-16T04:50:09.183138Z",
     "start_time": "2023-08-16T04:50:05.862102Z"
    }
   },
   "id": "693e7f98337c6596"
  },
  {
   "cell_type": "code",
   "execution_count": 2,
   "outputs": [],
   "source": [
    "PARQUET_FOLDER = os.path.join(os.getenv('PROJECT_DIR'), 'data','interim', 'parquet' )\n",
    "\n",
    "GEO_PARQUET_FILE_PATH = os.path.join(PARQUET_FOLDER, 'geo.parquet')\n",
    "NAME_PARQUET_FILE_PATH = os.path.join(PARQUET_FOLDER, 'name.parquet')\n",
    "WIND_PARQUET_FILE_PATH = os.path.join(PARQUET_FOLDER, 'wind.parquet')"
   ],
   "metadata": {
    "collapsed": false,
    "ExecuteTime": {
     "end_time": "2023-08-16T04:50:09.190863Z",
     "start_time": "2023-08-16T04:50:09.185714Z"
    }
   },
   "id": "7231233824b48aea"
  },
  {
   "cell_type": "code",
   "execution_count": 3,
   "outputs": [],
   "source": [
    "geo_df = pd.read_parquet(GEO_PARQUET_FILE_PATH)\n",
    "name_df = pd.read_parquet(NAME_PARQUET_FILE_PATH)\n",
    "wind_df = pd.read_parquet(WIND_PARQUET_FILE_PATH, filters=[('station_id', '=', 3)], engine='pyarrow')"
   ],
   "metadata": {
    "collapsed": false,
    "ExecuteTime": {
     "end_time": "2023-08-16T04:50:22.117903Z",
     "start_time": "2023-08-16T04:50:09.191750Z"
    }
   },
   "id": "124bec009cf72374"
  },
  {
   "cell_type": "code",
   "execution_count": 4,
   "outputs": [
    {
     "name": "stdout",
     "output_type": "stream",
     "text": [
      "<class 'pandas.core.frame.DataFrame'>\n",
      "Index: 908204 entries, 0 to 337802\n",
      "Data columns (total 5 columns):\n",
      " #   Column         Non-Null Count   Dtype         \n",
      "---  ------         --------------   -----         \n",
      " 0   station_id     908204 non-null  int64         \n",
      " 1   timestamp      908204 non-null  datetime64[ns]\n",
      " 2   quality        908204 non-null  int64         \n",
      " 3   avg_speed      908204 non-null  float64       \n",
      " 4   avg_direction  908204 non-null  float64       \n",
      "dtypes: datetime64[ns](1), float64(2), int64(2)\n",
      "memory usage: 41.6 MB\n"
     ]
    }
   ],
   "source": [
    "wind_df.info()"
   ],
   "metadata": {
    "collapsed": false,
    "ExecuteTime": {
     "end_time": "2023-08-16T04:50:22.275208Z",
     "start_time": "2023-08-16T04:50:22.111713Z"
    }
   },
   "id": "b2821c2418bce873"
  },
  {
   "cell_type": "code",
   "execution_count": 5,
   "outputs": [
    {
     "data": {
      "text/plain": "array([3])"
     },
     "execution_count": 5,
     "metadata": {},
     "output_type": "execute_result"
    }
   ],
   "source": [
    "wind_df['station_id'].unique()"
   ],
   "metadata": {
    "collapsed": false,
    "ExecuteTime": {
     "end_time": "2023-08-16T04:50:22.280162Z",
     "start_time": "2023-08-16T04:50:22.158191Z"
    }
   },
   "id": "f83bcb117688742"
  },
  {
   "cell_type": "code",
   "execution_count": 6,
   "outputs": [
    {
     "name": "stdout",
     "output_type": "stream",
     "text": [
      "Deleted 0 station names\n",
      "Deleted 0 station locations\n",
      "Deleted 0 stations\n",
      "Deleted 0 wind data\n"
     ]
    }
   ],
   "source": [
    "with db.atomic():\n",
    "    \n",
    "    print(f\"Deleted {StationName.delete().execute()} station names\")\n",
    "    print(f\"Deleted {StationLocation.delete().execute()} station locations\")    \n",
    "    print(f\"Deleted {Station.delete().execute()} stations\")\n",
    "    print(f\"Deleted {Wind10Minutes.delete().execute()} wind data\")\n"
   ],
   "metadata": {
    "collapsed": false,
    "ExecuteTime": {
     "end_time": "2023-08-16T04:50:22.827909Z",
     "start_time": "2023-08-16T04:50:22.274813Z"
    }
   },
   "id": "initial_id"
  },
  {
   "cell_type": "code",
   "execution_count": 7,
   "outputs": [
    {
     "data": {
      "text/plain": "<peewee.ModelTupleCursorWrapper at 0x1176bf090>"
     },
     "execution_count": 7,
     "metadata": {},
     "output_type": "execute_result"
    }
   ],
   "source": [
    "\n",
    "# insert stations\n",
    "stations_data = [{'id': sid} for sid in geo_df['station_id'].unique().tolist()]\n",
    "Station.insert_many(stations_data).execute()\n",
    "\n",
    "# insert station names\n",
    "station_names_data = name_df.replace({np.nan: None}).to_dict(orient=\"records\")\n",
    "StationName.insert_many(station_names_data).execute()\n",
    "\n",
    "\n",
    "# insert station locations\n",
    "station_locations_data = geo_df.drop(columns=['station_name']).replace({np.nan: None}).to_dict(orient=\"records\")\n",
    "StationLocation.insert_many(station_locations_data).execute()\n",
    "\n",
    "#insert wind data\n",
    "wind_data = wind_df.replace({np.nan: None}).rename(columns={'station_id': 'station'}).to_dict(orient=\"records\")\n",
    "Wind10Minutes.insert_many(wind_data).execute()\n",
    "    "
   ],
   "metadata": {
    "collapsed": false,
    "ExecuteTime": {
     "end_time": "2023-08-16T04:54:56.758107Z",
     "start_time": "2023-08-16T04:50:22.837680Z"
    }
   },
   "id": "731f79c61a3e6386"
  },
  {
   "cell_type": "code",
   "execution_count": 8,
   "outputs": [
    {
     "name": "stdout",
     "output_type": "stream",
     "text": [
      "Inserted 310 stations\n",
      "Inserted 450 station names\n",
      "Inserted 1264 station locations\n",
      "Inserted 908204 wind data\n"
     ]
    }
   ],
   "source": [
    "print(f\"Inserted {Station.select().count()} stations\")\n",
    "print(f\"Inserted {StationName.select().count()} station names\")\n",
    "print(f\"Inserted {StationLocation.select().count()} station locations\")\n",
    "print(f\"Inserted {Wind10Minutes.select().count()} wind data\")"
   ],
   "metadata": {
    "collapsed": false,
    "ExecuteTime": {
     "end_time": "2023-08-16T04:54:57.387736Z",
     "start_time": "2023-08-16T04:54:56.757315Z"
    }
   },
   "id": "be6716b2d77dea97"
  },
  {
   "cell_type": "code",
   "execution_count": 9,
   "outputs": [
    {
     "data": {
      "text/plain": "        station_id           timestamp  quality  avg_speed  avg_direction\n0                3 2010-01-01 00:00:00        3        2.3          350.0\n1                3 2010-01-01 00:10:00        3        2.2          350.0\n2                3 2010-01-01 00:20:00        3        2.1          350.0\n3                3 2010-01-01 00:30:00        3        2.3          350.0\n4                3 2010-01-01 00:40:00        3        1.6          360.0\n...            ...                 ...      ...        ...            ...\n337798           3 2000-01-01 00:10:00        1        2.7          200.0\n337799           3 2000-01-01 00:20:00        1        2.9          210.0\n337800           3 2000-01-01 00:30:00        1        2.3          210.0\n337801           3 2000-01-01 00:40:00        1        2.3          210.0\n337802           3 2000-01-01 00:50:00        1        2.1          220.0\n\n[908204 rows x 5 columns]",
      "text/html": "<div>\n<style scoped>\n    .dataframe tbody tr th:only-of-type {\n        vertical-align: middle;\n    }\n\n    .dataframe tbody tr th {\n        vertical-align: top;\n    }\n\n    .dataframe thead th {\n        text-align: right;\n    }\n</style>\n<table border=\"1\" class=\"dataframe\">\n  <thead>\n    <tr style=\"text-align: right;\">\n      <th></th>\n      <th>station_id</th>\n      <th>timestamp</th>\n      <th>quality</th>\n      <th>avg_speed</th>\n      <th>avg_direction</th>\n    </tr>\n  </thead>\n  <tbody>\n    <tr>\n      <th>0</th>\n      <td>3</td>\n      <td>2010-01-01 00:00:00</td>\n      <td>3</td>\n      <td>2.3</td>\n      <td>350.0</td>\n    </tr>\n    <tr>\n      <th>1</th>\n      <td>3</td>\n      <td>2010-01-01 00:10:00</td>\n      <td>3</td>\n      <td>2.2</td>\n      <td>350.0</td>\n    </tr>\n    <tr>\n      <th>2</th>\n      <td>3</td>\n      <td>2010-01-01 00:20:00</td>\n      <td>3</td>\n      <td>2.1</td>\n      <td>350.0</td>\n    </tr>\n    <tr>\n      <th>3</th>\n      <td>3</td>\n      <td>2010-01-01 00:30:00</td>\n      <td>3</td>\n      <td>2.3</td>\n      <td>350.0</td>\n    </tr>\n    <tr>\n      <th>4</th>\n      <td>3</td>\n      <td>2010-01-01 00:40:00</td>\n      <td>3</td>\n      <td>1.6</td>\n      <td>360.0</td>\n    </tr>\n    <tr>\n      <th>...</th>\n      <td>...</td>\n      <td>...</td>\n      <td>...</td>\n      <td>...</td>\n      <td>...</td>\n    </tr>\n    <tr>\n      <th>337798</th>\n      <td>3</td>\n      <td>2000-01-01 00:10:00</td>\n      <td>1</td>\n      <td>2.7</td>\n      <td>200.0</td>\n    </tr>\n    <tr>\n      <th>337799</th>\n      <td>3</td>\n      <td>2000-01-01 00:20:00</td>\n      <td>1</td>\n      <td>2.9</td>\n      <td>210.0</td>\n    </tr>\n    <tr>\n      <th>337800</th>\n      <td>3</td>\n      <td>2000-01-01 00:30:00</td>\n      <td>1</td>\n      <td>2.3</td>\n      <td>210.0</td>\n    </tr>\n    <tr>\n      <th>337801</th>\n      <td>3</td>\n      <td>2000-01-01 00:40:00</td>\n      <td>1</td>\n      <td>2.3</td>\n      <td>210.0</td>\n    </tr>\n    <tr>\n      <th>337802</th>\n      <td>3</td>\n      <td>2000-01-01 00:50:00</td>\n      <td>1</td>\n      <td>2.1</td>\n      <td>220.0</td>\n    </tr>\n  </tbody>\n</table>\n<p>908204 rows × 5 columns</p>\n</div>"
     },
     "execution_count": 9,
     "metadata": {},
     "output_type": "execute_result"
    }
   ],
   "source": [
    "wind_df"
   ],
   "metadata": {
    "collapsed": false,
    "ExecuteTime": {
     "end_time": "2023-08-16T04:54:57.415052Z",
     "start_time": "2023-08-16T04:54:57.389230Z"
    }
   },
   "id": "115b63ee6fe07ba2"
  },
  {
   "cell_type": "code",
   "execution_count": 9,
   "outputs": [],
   "source": [],
   "metadata": {
    "collapsed": false,
    "ExecuteTime": {
     "end_time": "2023-08-16T04:54:57.415810Z",
     "start_time": "2023-08-16T04:54:57.407073Z"
    }
   },
   "id": "97e07c2c36cb4b4d"
  }
 ],
 "metadata": {
  "kernelspec": {
   "display_name": "Python 3",
   "language": "python",
   "name": "python3"
  },
  "language_info": {
   "codemirror_mode": {
    "name": "ipython",
    "version": 2
   },
   "file_extension": ".py",
   "mimetype": "text/x-python",
   "name": "python",
   "nbconvert_exporter": "python",
   "pygments_lexer": "ipython2",
   "version": "2.7.6"
  }
 },
 "nbformat": 4,
 "nbformat_minor": 5
}
