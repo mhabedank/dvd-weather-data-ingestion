{
 "cells": [
  {
   "cell_type": "code",
   "execution_count": 1,
   "id": "initial_id",
   "metadata": {
    "collapsed": true,
    "ExecuteTime": {
     "end_time": "2023-09-08T05:35:51.077676Z",
     "start_time": "2023-09-08T05:35:49.939277Z"
    }
   },
   "outputs": [],
   "source": [
    "# import flask\n",
    "from flask import Flask, jsonify, request\n",
    "\n",
    "from src.models import Station, StationName, StationLocation\n",
    "from geopy import distance"
   ]
  },
  {
   "cell_type": "code",
   "execution_count": 2,
   "outputs": [],
   "source": [
    "# create flask app\n",
    "app = Flask(__name__)\n",
    "\n",
    "# endpoint for gathering a list of stations\n",
    "@app.route('/stations')\n",
    "def stations():\n",
    "    # Example on how to write a query with peewee.\n",
    "    stations = (Station.select(\n",
    "                    Station, \n",
    "                    StationName.name,\n",
    "                    StationLocation.latitude, \n",
    "                    StationLocation.longitude,\n",
    "                    StationLocation.altitude)\n",
    "                .join(StationName, on=(\n",
    "                        (StationName.station_id == Station.id)\n",
    "                        &StationName.to_date.is_null()    \n",
    "                        ))\n",
    "                .join(StationLocation, on=(\n",
    "                        (StationLocation.station_id == Station.id)\n",
    "                        &StationLocation.to_date.is_null()    \n",
    "                        ))\n",
    "                .dicts())\n",
    "    return jsonify(list(stations))\n",
    "\n",
    "@app.route('/stations/<int:station_id>')\n",
    "def station(station_id):\n",
    "    station = (Station.select(\n",
    "                    Station, \n",
    "                    StationName.name, \n",
    "                    StationLocation.latitude, \n",
    "                    StationLocation.longitude, \n",
    "                    StationLocation.altitude)\n",
    "                .join(StationName, on=(\n",
    "                        (StationName.station_id == Station.id)\n",
    "                        &StationName.to_date.is_null()    \n",
    "                        ))\n",
    "                .join(StationLocation, on=(\n",
    "                        (StationLocation.station_id == Station.id)\n",
    "                        &StationLocation.to_date.is_null()    \n",
    "                        ))\n",
    "                .where(Station.id == station_id)\n",
    "                .dicts())\n",
    "    return jsonify(list(station))\n",
    "\n",
    "@app.route('/stations/radius')\n",
    "def stations_radius():\n",
    "    latitude = request.args.get('latitude', default=52.520008, type=float)\n",
    "    longitude = request.args.get('longitude', default=13.404954, type=float)\n",
    "    length = request.args.get('radius', default=25, type=float)\n",
    "    # This is the same query as in the stations endpoint, but we use the\n",
    "    # get_as_dicts method to get a list of dictionaries instead of a list of\n",
    "    # peewee models. This method is defined in the Station model.\n",
    "    stations = Station.get_as_dicts()\n",
    "    \n",
    "    # filter it by distance to given latitude and longitude\n",
    "    stations = filter(lambda station: distance.distance(\n",
    "                        (station['latitude'], station['longitude']), \n",
    "                        (latitude, longitude)).kilometers <= length, \n",
    "                        stations)\n",
    "    return jsonify(list(stations))"
   ],
   "metadata": {
    "collapsed": false,
    "ExecuteTime": {
     "end_time": "2023-09-08T05:35:51.097540Z",
     "start_time": "2023-09-08T05:35:51.085834Z"
    }
   },
   "id": "2c9af52de9186094"
  },
  {
   "cell_type": "code",
   "execution_count": 3,
   "outputs": [
    {
     "name": "stdout",
     "output_type": "stream",
     "text": [
      " * Serving Flask app '__main__'\n",
      " * Debug mode: off\n"
     ]
    },
    {
     "name": "stderr",
     "output_type": "stream",
     "text": [
      "\u001B[31m\u001B[1mWARNING: This is a development server. Do not use it in a production deployment. Use a production WSGI server instead.\u001B[0m\n",
      " * Running on http://127.0.0.1:5000\n",
      "\u001B[33mPress CTRL+C to quit\u001B[0m\n",
      "127.0.0.1 - - [08/Sep/2023 07:36:10] \"GET /stations/radius?latitude=52.520008&lingitude=13.404954&radius=10 HTTP/1.1\" 200 -\n",
      "127.0.0.1 - - [08/Sep/2023 07:36:18] \"GET /stations/radius?latitude=52.520008&lingitude=13.404954&radius=120 HTTP/1.1\" 200 -\n"
     ]
    }
   ],
   "source": [
    "app.run()"
   ],
   "metadata": {
    "collapsed": false,
    "ExecuteTime": {
     "end_time": "2023-09-08T09:58:44.778455Z",
     "start_time": "2023-09-08T05:35:51.093137Z"
    }
   },
   "id": "cebef9daaa73bfd3"
  },
  {
   "cell_type": "code",
   "execution_count": 3,
   "outputs": [],
   "source": [],
   "metadata": {
    "collapsed": false,
    "ExecuteTime": {
     "end_time": "2023-09-08T09:58:44.782578Z",
     "start_time": "2023-09-08T09:58:44.776677Z"
    }
   },
   "id": "df3756fc5de276b2"
  }
 ],
 "metadata": {
  "kernelspec": {
   "display_name": "Python 3",
   "language": "python",
   "name": "python3"
  },
  "language_info": {
   "codemirror_mode": {
    "name": "ipython",
    "version": 2
   },
   "file_extension": ".py",
   "mimetype": "text/x-python",
   "name": "python",
   "nbconvert_exporter": "python",
   "pygments_lexer": "ipython2",
   "version": "2.7.6"
  }
 },
 "nbformat": 4,
 "nbformat_minor": 5
}
