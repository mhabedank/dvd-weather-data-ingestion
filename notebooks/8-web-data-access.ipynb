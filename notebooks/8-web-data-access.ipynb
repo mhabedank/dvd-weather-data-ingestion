{
 "cells": [
  {
   "cell_type": "markdown",
   "source": [
    "# Kleiner Beispiel Server, um die Daten zur Verfügung zu stellen."
   ],
   "metadata": {
    "collapsed": false
   },
   "id": "5cd72240cb4e510c"
  },
  {
   "cell_type": "code",
   "execution_count": 1,
   "outputs": [],
   "source": [
    "from flask import Flask, jsonify, request\n",
    "\n",
    "from src.models import Station, StationName, StationLocation\n",
    "from geopy import distance"
   ],
   "metadata": {
    "collapsed": false,
    "ExecuteTime": {
     "start_time": "2023-10-20T03:06:13.726700Z"
    }
   },
   "id": "initial_id"
  },
  {
   "cell_type": "code",
   "execution_count": 2,
   "outputs": [],
   "source": [
    "# create flask app\n",
    "app = Flask(__name__)\n",
    "\n",
    "# endpoint for gathering a list of stations\n",
    "@app.route('/stations')\n",
    "def stations():\n",
    "    # Example on how to write a query with peewee.\n",
    "    stations = (Station.select(\n",
    "                    Station, \n",
    "                    StationName.name,\n",
    "                    StationLocation.latitude, \n",
    "                    StationLocation.longitude,\n",
    "                    StationLocation.altitude)\n",
    "                .join(StationName, on=(\n",
    "                        (StationName.station_id == Station.id)\n",
    "                        &StationName.to_date.is_null()    \n",
    "                        ))\n",
    "                .join(StationLocation, on=(\n",
    "                        (StationLocation.station_id == Station.id)\n",
    "                        &StationLocation.to_date.is_null()    \n",
    "                        ))\n",
    "                .dicts())\n",
    "    return jsonify(list(stations))\n",
    "\n",
    "@app.route('/stations/<int:station_id>')\n",
    "def station(station_id):\n",
    "    station = (Station.select(\n",
    "                    Station, \n",
    "                    StationName.name, \n",
    "                    StationLocation.latitude, \n",
    "                    StationLocation.longitude, \n",
    "                    StationLocation.altitude)\n",
    "                .join(StationName, on=(\n",
    "                        (StationName.station_id == Station.id)\n",
    "                        &StationName.to_date.is_null()    \n",
    "                        ))\n",
    "                .join(StationLocation, on=(\n",
    "                        (StationLocation.station_id == Station.id)\n",
    "                        &StationLocation.to_date.is_null()    \n",
    "                        ))\n",
    "                .where(Station.id == station_id)\n",
    "                .dicts())\n",
    "    return jsonify(list(station))\n",
    "\n",
    "@app.route('/stations/radius')\n",
    "def stations_radius():\n",
    "    latitude = request.args.get('latitude', default=52.520008, type=float)\n",
    "    longitude = request.args.get('longitude', default=13.404954, type=float)\n",
    "    length = request.args.get('radius', default=25, type=float)\n",
    "    # This is the same query as in the stations endpoint, but we use the\n",
    "    # get_as_dicts method to get a list of dictionaries instead of a list of\n",
    "    # peewee models. This method is defined in the Station model.\n",
    "    stations = Station.get_as_dicts()\n",
    "    \n",
    "    # filter it by distance to given latitude and longitude\n",
    "    stations = filter(lambda station: distance.distance(\n",
    "                        (station['latitude'], station['longitude']), \n",
    "                        (latitude, longitude)).kilometers <= length, \n",
    "                        stations)\n",
    "    return jsonify(list(stations))"
   ],
   "metadata": {
    "collapsed": false,
    "ExecuteTime": {
     "end_time": "2023-10-20T03:06:14.653414Z",
     "start_time": "2023-10-20T03:06:14.641220Z"
    }
   },
   "id": "2c9af52de9186094"
  },
  {
   "cell_type": "code",
   "execution_count": null,
   "outputs": [
    {
     "name": "stdout",
     "output_type": "stream",
     "text": [
      " * Serving Flask app '__main__'\n",
      " * Debug mode: off\n"
     ]
    },
    {
     "name": "stderr",
     "output_type": "stream",
     "text": [
      "WARNING: This is a development server. Do not use it in a production deployment. Use a production WSGI server instead.\n",
      " * Running on http://127.0.0.1:5000\n",
      "Press CTRL+C to quit\n",
      "127.0.0.1 - - [20/Oct/2023 05:06:44] \"GET /stations HTTP/1.1\" 200 -\n",
      "127.0.0.1 - - [20/Oct/2023 05:07:03] \"GET /stations/3811 HTTP/1.1\" 200 -\n",
      "127.0.0.1 - - [20/Oct/2023 05:14:18] \"GET /stations/3811 HTTP/1.1\" 200 -\n",
      "127.0.0.1 - - [21/Oct/2023 06:41:16] \"OPTIONS /highscore/ HTTP/1.1\" 404 -\n",
      "127.0.0.1 - - [21/Oct/2023 06:41:16] \"GET /highscore/ HTTP/1.1\" 404 -\n",
      "127.0.0.1 - - [22/Oct/2023 16:16:14] \"PUT /highscore/ HTTP/1.1\" 404 -\n",
      "127.0.0.1 - - [22/Oct/2023 16:16:14] \"GET /highscore/ HTTP/1.1\" 404 -\n",
      "127.0.0.1 - - [22/Oct/2023 16:18:58] \"OPTIONS /highscore/ HTTP/1.1\" 404 -\n",
      "127.0.0.1 - - [22/Oct/2023 16:18:58] \"GET /highscore/ HTTP/1.1\" 404 -\n",
      "127.0.0.1 - - [22/Oct/2023 16:19:02] \"GET /highscore/ HTTP/1.1\" 404 -\n",
      "127.0.0.1 - - [22/Oct/2023 16:19:38] \"GET /highscore/ HTTP/1.1\" 404 -\n"
     ]
    }
   ],
   "source": [
    "app.run()"
   ],
   "metadata": {
    "collapsed": false,
    "is_executing": true,
    "ExecuteTime": {
     "start_time": "2023-10-20T03:06:16.165523Z"
    }
   },
   "id": "cebef9daaa73bfd3"
  },
  {
   "cell_type": "code",
   "execution_count": 3,
   "outputs": [],
   "source": [],
   "metadata": {
    "collapsed": false,
    "ExecuteTime": {
     "end_time": "2023-09-08T09:58:44.782578Z",
     "start_time": "2023-09-08T09:58:44.776677Z"
    }
   },
   "id": "df3756fc5de276b2"
  }
 ],
 "metadata": {
  "kernelspec": {
   "display_name": "Python 3",
   "language": "python",
   "name": "python3"
  },
  "language_info": {
   "codemirror_mode": {
    "name": "ipython",
    "version": 2
   },
   "file_extension": ".py",
   "mimetype": "text/x-python",
   "name": "python",
   "nbconvert_exporter": "python",
   "pygments_lexer": "ipython2",
   "version": "2.7.6"
  }
 },
 "nbformat": 4,
 "nbformat_minor": 5
}
