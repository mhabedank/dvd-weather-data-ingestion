{
 "cells": [
  {
   "cell_type": "code",
   "execution_count": 1,
   "id": "initial_id",
   "metadata": {
    "collapsed": true,
    "ExecuteTime": {
     "end_time": "2023-09-07T21:26:59.332041Z",
     "start_time": "2023-09-07T21:26:49.495075Z"
    }
   },
   "outputs": [],
   "source": [
    "# import flask\n",
    "from flask import Flask, jsonify, request\n",
    "\n",
    "from src.models import Station, StationName, StationLocation\n",
    "from geopy import distance"
   ]
  },
  {
   "cell_type": "code",
   "execution_count": 2,
   "outputs": [],
   "source": [
    "# create flask app\n",
    "app = Flask(__name__)\n",
    "\n",
    "# endpoint for gathering a list of stations\n",
    "@app.route('/stations')\n",
    "def stations():\n",
    "    stations = (Station.select(\n",
    "                    Station, \n",
    "                    StationName.name,\n",
    "                    StationLocation.latitude, \n",
    "                    StationLocation.longitude,\n",
    "                    StationLocation.altitude)\n",
    "                .join(StationName, on=(\n",
    "                        (StationName.station_id == Station.id)\n",
    "                        &StationName.to_date.is_null()    \n",
    "                        ))\n",
    "                .join(StationLocation, on=(\n",
    "                        (StationLocation.station_id == Station.id)\n",
    "                        &StationLocation.to_date.is_null()    \n",
    "                        ))\n",
    "                .dicts())\n",
    "    return jsonify(list(stations))\n",
    "\n",
    "@app.route('/stations/<int:station_id>')\n",
    "def station(station_id):\n",
    "    station = (Station.select(\n",
    "                    Station, \n",
    "                    StationName.name, \n",
    "                    StationLocation.latitude, \n",
    "                    StationLocation.longitude, \n",
    "                    StationLocation.altitude)\n",
    "                .join(StationName, on=(\n",
    "                        (StationName.station_id == Station.id)\n",
    "                        &StationName.to_date.is_null()    \n",
    "                        ))\n",
    "                .join(StationLocation, on=(\n",
    "                        (StationLocation.station_id == Station.id)\n",
    "                        &StationLocation.to_date.is_null()    \n",
    "                        ))\n",
    "                .where(Station.id == station_id)\n",
    "                .dicts())\n",
    "    return jsonify(list(station))\n",
    "\n",
    "@app.route('/stations/radius')\n",
    "def stations_radius():\n",
    "    latitude = request.args.get('latitude', default=52.520008, type=float)\n",
    "    longitude = request.args.get('longitude', default=13.404954, type=float)\n",
    "    length = request.args.get('length', default=25, type=float)\n",
    "    stations = Station.get_as_dicts()\n",
    "    \n",
    "    # filter it by distance to given latitude and longitude\n",
    "    stations = filter(lambda station: distance.distance(\n",
    "                        (station['latitude'], station['longitude']), \n",
    "                        (latitude, longitude)).kilometers <= length, \n",
    "                        stations)\n",
    "    return jsonify(list(stations))"
   ],
   "metadata": {
    "collapsed": false,
    "ExecuteTime": {
     "end_time": "2023-09-07T21:26:59.356214Z",
     "start_time": "2023-09-07T21:26:59.337399Z"
    }
   },
   "id": "2c9af52de9186094"
  },
  {
   "cell_type": "code",
   "execution_count": null,
   "outputs": [
    {
     "name": "stdout",
     "output_type": "stream",
     "text": [
      " * Serving Flask app '__main__'\n",
      " * Debug mode: off\n"
     ]
    },
    {
     "name": "stderr",
     "output_type": "stream",
     "text": [
      "\u001B[31m\u001B[1mWARNING: This is a development server. Do not use it in a production deployment. Use a production WSGI server instead.\u001B[0m\n",
      " * Running on http://127.0.0.1:5000\n",
      "\u001B[33mPress CTRL+C to quit\u001B[0m\n",
      "127.0.0.1 - - [07/Sep/2023 23:27:21] \"GET /stations HTTP/1.1\" 200 -\n",
      "127.0.0.1 - - [07/Sep/2023 23:28:01] \"GET /stations/3811 HTTP/1.1\" 200 -\n",
      "127.0.0.1 - - [07/Sep/2023 23:28:53] \"GET /stations/radius?latitude=52.520008&lingitude=13.404954&length=50 HTTP/1.1\" 200 -\n",
      "127.0.0.1 - - [07/Sep/2023 23:29:02] \"GET /stations/radius?latitude=52.520008&lingitude=13.404954&length=10 HTTP/1.1\" 200 -\n"
     ]
    }
   ],
   "source": [
    "app.run()"
   ],
   "metadata": {
    "collapsed": false,
    "is_executing": true,
    "ExecuteTime": {
     "start_time": "2023-09-07T21:26:59.346115Z"
    }
   },
   "id": "cebef9daaa73bfd3"
  },
  {
   "cell_type": "code",
   "execution_count": null,
   "outputs": [],
   "source": [],
   "metadata": {
    "collapsed": false,
    "is_executing": true
   },
   "id": "df3756fc5de276b2"
  }
 ],
 "metadata": {
  "kernelspec": {
   "display_name": "Python 3",
   "language": "python",
   "name": "python3"
  },
  "language_info": {
   "codemirror_mode": {
    "name": "ipython",
    "version": 2
   },
   "file_extension": ".py",
   "mimetype": "text/x-python",
   "name": "python",
   "nbconvert_exporter": "python",
   "pygments_lexer": "ipython2",
   "version": "2.7.6"
  }
 },
 "nbformat": 4,
 "nbformat_minor": 5
}
