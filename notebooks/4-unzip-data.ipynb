{
 "cells": [
  {
   "cell_type": "markdown",
   "source": [
    "# Data Unzip\n",
    "\n",
    "Sowohl die Metadaten als auch die Wetterdaten werden entpackt."
   ],
   "metadata": {
    "collapsed": false
   },
   "id": "110c3c80842bf8ad"
  },
  {
   "cell_type": "code",
   "execution_count": 14,
   "outputs": [],
   "source": [
    "import os\n",
    "import zipfile\n",
    "\n",
    "RAW_DATA_FOLDER = os.path.join(\"..\", 'data', 'raw', 'wind10_min')\n",
    "RAW_DATA_FOLDER_META = os.path.join(\"..\", \"data\", \"raw\", \"station_meta\")\n",
    "TARGET_FOLDER = os.path.join(\"..\", 'data', 'interim', 'wind10_min')\n",
    "TARGET_FOLDER_META = os.path.join(\"..\", \"data\", \"interim\", \"station_meta\")"
   ],
   "metadata": {
    "collapsed": false,
    "ExecuteTime": {
     "end_time": "2023-09-07T22:25:29.813553Z",
     "start_time": "2023-09-07T22:25:29.809480Z"
    }
   },
   "id": "initial_id"
  },
  {
   "cell_type": "code",
   "execution_count": 15,
   "outputs": [],
   "source": [
    "def unpack_data(source_folder, target_folder):\n",
    "    with zipfile.ZipFile(source_folder, 'r') as zip_ref:\n",
    "        zip_ref.extractall(target_folder)\n",
    "        \n",
    "def unpack_from_folder(source_folder, target_folder):\n",
    "    for file in os.listdir(source_folder):\n",
    "        if file.endswith(\".zip\"):\n",
    "            print(f\"Unpacking: {file}\")\n",
    "            file_name = os.path.splitext(file)[0]\n",
    "            file_path = os.path.join(source_folder, file)\n",
    "            t_folder = os.path.join(target_folder, file_name)\n",
    "            if not os.path.exists(t_folder):\n",
    "                os.makedirs(t_folder)\n",
    "            unpack_data(file_path, t_folder)\n",
    "            print(f\"Unpacked: {file}\")\n"
   ],
   "metadata": {
    "collapsed": false,
    "ExecuteTime": {
     "end_time": "2023-09-07T22:25:29.819981Z",
     "start_time": "2023-09-07T22:25:29.816532Z"
    }
   },
   "id": "bf09d255ada346d7"
  },
  {
   "cell_type": "code",
   "execution_count": 16,
   "outputs": [
    {
     "name": "stdout",
     "output_type": "stream",
     "text": [
      "Unpacking: Meta_Daten_zehn_min_ff_00303.zip\n",
      "Unpacked: Meta_Daten_zehn_min_ff_00303.zip\n",
      "Unpacking: Meta_Daten_zehn_min_ff_00840.zip\n",
      "Unpacked: Meta_Daten_zehn_min_ff_00840.zip\n",
      "Unpacking: Meta_Daten_zehn_min_ff_01357.zip\n",
      "Unpacked: Meta_Daten_zehn_min_ff_01357.zip\n",
      "Unpacking: Meta_Daten_zehn_min_ff_00856.zip\n",
      "Unpacked: Meta_Daten_zehn_min_ff_00856.zip\n",
      "Unpacking: Meta_Daten_zehn_min_ff_00880.zip\n",
      "Unpacked: Meta_Daten_zehn_min_ff_00880.zip\n",
      "Unpacking: Meta_Daten_zehn_min_ff_00704.zip\n",
      "Unpacked: Meta_Daten_zehn_min_ff_00704.zip\n",
      "Unpacking: Meta_Daten_zehn_min_ff_00853.zip\n",
      "Unpacked: Meta_Daten_zehn_min_ff_00853.zip\n",
      "Unpacking: Meta_Daten_zehn_min_ff_00891.zip\n",
      "Unpacked: Meta_Daten_zehn_min_ff_00891.zip\n",
      "Unpacking: Meta_Daten_zehn_min_ff_01219.zip\n",
      "Unpacked: Meta_Daten_zehn_min_ff_01219.zip\n",
      "Unpacking: Meta_Daten_zehn_min_ff_00701.zip\n",
      "Unpacked: Meta_Daten_zehn_min_ff_00701.zip\n",
      "Unpacking: Meta_Daten_zehn_min_ff_01379.zip\n",
      "Unpacked: Meta_Daten_zehn_min_ff_01379.zip\n",
      "Unpacking: Meta_Daten_zehn_min_ff_00298.zip\n",
      "Unpacked: Meta_Daten_zehn_min_ff_00298.zip\n",
      "Unpacking: Meta_Daten_zehn_min_ff_00850.zip\n",
      "Unpacked: Meta_Daten_zehn_min_ff_00850.zip\n",
      "Unpacking: Meta_Daten_zehn_min_ff_00460.zip\n",
      "Unpacked: Meta_Daten_zehn_min_ff_00460.zip\n",
      "Unpacking: Meta_Daten_zehn_min_ff_00662.zip\n",
      "Unpacked: Meta_Daten_zehn_min_ff_00662.zip\n",
      "Unpacking: Meta_Daten_zehn_min_ff_01346.zip\n",
      "Unpacked: Meta_Daten_zehn_min_ff_01346.zip\n",
      "Unpacking: Meta_Daten_zehn_min_ff_00003.zip\n",
      "Unpacked: Meta_Daten_zehn_min_ff_00003.zip\n",
      "Unpacking: Meta_Daten_zehn_min_ff_00348.zip\n",
      "Unpacked: Meta_Daten_zehn_min_ff_00348.zip\n",
      "Unpacking: Meta_Daten_zehn_min_ff_00161.zip\n",
      "Unpacked: Meta_Daten_zehn_min_ff_00161.zip\n",
      "Unpacking: Meta_Daten_zehn_min_ff_00788.zip\n",
      "Unpacked: Meta_Daten_zehn_min_ff_00788.zip\n",
      "Unpacking: Meta_Daten_zehn_min_ff_00011.zip\n",
      "Unpacked: Meta_Daten_zehn_min_ff_00011.zip\n",
      "Unpacking: Meta_Daten_zehn_min_ff_00603.zip\n",
      "Unpacked: Meta_Daten_zehn_min_ff_00603.zip\n",
      "Unpacking: Meta_Daten_zehn_min_ff_01078.zip\n",
      "Unpacked: Meta_Daten_zehn_min_ff_01078.zip\n",
      "Unpacking: Meta_Daten_zehn_min_ff_00400.zip\n",
      "Unpacked: Meta_Daten_zehn_min_ff_00400.zip\n",
      "Unpacking: Meta_Daten_zehn_min_ff_00399.zip\n",
      "Unpacked: Meta_Daten_zehn_min_ff_00399.zip\n",
      "Unpacking: Meta_Daten_zehn_min_ff_00164.zip\n",
      "Unpacked: Meta_Daten_zehn_min_ff_00164.zip\n",
      "Unpacking: Meta_Daten_zehn_min_ff_00953.zip\n",
      "Unpacked: Meta_Daten_zehn_min_ff_00953.zip\n",
      "Unpacking: Meta_Daten_zehn_min_ff_00198.zip\n",
      "Unpacked: Meta_Daten_zehn_min_ff_00198.zip\n",
      "Unpacking: Meta_Daten_zehn_min_ff_00591.zip\n",
      "Unpacked: Meta_Daten_zehn_min_ff_00591.zip\n",
      "Unpacking: Meta_Daten_zehn_min_ff_00963.zip\n",
      "Unpacked: Meta_Daten_zehn_min_ff_00963.zip\n",
      "Unpacking: Meta_Daten_zehn_min_ff_00433.zip\n",
      "Unpacked: Meta_Daten_zehn_min_ff_00433.zip\n",
      "Unpacking: Meta_Daten_zehn_min_ff_00427.zip\n",
      "Unpacked: Meta_Daten_zehn_min_ff_00427.zip\n",
      "Unpacking: Meta_Daten_zehn_min_ff_00619.zip\n",
      "Unpacked: Meta_Daten_zehn_min_ff_00619.zip\n",
      "Unpacking: Meta_Daten_zehn_min_ff_01303.zip\n",
      "Unpacked: Meta_Daten_zehn_min_ff_01303.zip\n",
      "Unpacking: Meta_Daten_zehn_min_ff_00342.zip\n",
      "Unpacked: Meta_Daten_zehn_min_ff_00342.zip\n",
      "Unpacking: Meta_Daten_zehn_min_ff_01048.zip\n",
      "Unpacked: Meta_Daten_zehn_min_ff_01048.zip\n",
      "Unpacking: Meta_Daten_zehn_min_ff_00430.zip\n",
      "Unpacked: Meta_Daten_zehn_min_ff_00430.zip\n",
      "Unpacking: Meta_Daten_zehn_min_ff_01262.zip\n",
      "Unpacked: Meta_Daten_zehn_min_ff_01262.zip\n",
      "Unpacking: Meta_Daten_zehn_min_ff_00183.zip\n",
      "Unpacked: Meta_Daten_zehn_min_ff_00183.zip\n",
      "Unpacking: Meta_Daten_zehn_min_ff_00197.zip\n",
      "Unpacked: Meta_Daten_zehn_min_ff_00197.zip\n",
      "Unpacking: Meta_Daten_zehn_min_ff_00222.zip\n",
      "Unpacked: Meta_Daten_zehn_min_ff_00222.zip\n",
      "Unpacking: Meta_Daten_zehn_min_ff_00232.zip\n",
      "Unpacked: Meta_Daten_zehn_min_ff_00232.zip\n",
      "Unpacking: Meta_Daten_zehn_min_ff_00554.zip\n",
      "Unpacked: Meta_Daten_zehn_min_ff_00554.zip\n",
      "Unpacking: Meta_Daten_zehn_min_ff_00596.zip\n",
      "Unpacked: Meta_Daten_zehn_min_ff_00596.zip\n",
      "Unpacking: Meta_Daten_zehn_min_ff_01270.zip\n",
      "Unpacked: Meta_Daten_zehn_min_ff_01270.zip\n",
      "Unpacking: Meta_Daten_zehn_min_ff_00096.zip\n",
      "Unpacked: Meta_Daten_zehn_min_ff_00096.zip\n",
      "Unpacking: Meta_Daten_zehn_min_ff_01001.zip\n",
      "Unpacked: Meta_Daten_zehn_min_ff_01001.zip\n",
      "Unpacking: Meta_Daten_zehn_min_ff_00691.zip\n",
      "Unpacked: Meta_Daten_zehn_min_ff_00691.zip\n",
      "Unpacking: Meta_Daten_zehn_min_ff_01200.zip\n",
      "Unpacked: Meta_Daten_zehn_min_ff_01200.zip\n",
      "Unpacking: Meta_Daten_zehn_min_ff_00282.zip\n",
      "Unpacked: Meta_Daten_zehn_min_ff_00282.zip\n",
      "Unpacking: Meta_Daten_zehn_min_ff_00090.zip\n",
      "Unpacked: Meta_Daten_zehn_min_ff_00090.zip\n",
      "Unpacking: Meta_Daten_zehn_min_ff_01013.zip\n",
      "Unpacked: Meta_Daten_zehn_min_ff_01013.zip\n",
      "Unpacking: Meta_Daten_zehn_min_ff_00867.zip\n",
      "Unpacked: Meta_Daten_zehn_min_ff_00867.zip\n",
      "Unpacking: Meta_Daten_zehn_min_ff_01358.zip\n",
      "Unpacked: Meta_Daten_zehn_min_ff_01358.zip\n",
      "Unpacking: Meta_Daten_zehn_min_ff_00722.zip\n",
      "Unpacked: Meta_Daten_zehn_min_ff_00722.zip\n",
      "Unpacking: Meta_Daten_zehn_min_ff_00642.zip\n",
      "Unpacked: Meta_Daten_zehn_min_ff_00642.zip\n",
      "Unpacking: Meta_Daten_zehn_min_ff_00656.zip\n",
      "Unpacked: Meta_Daten_zehn_min_ff_00656.zip\n",
      "Unpacking: Meta_Daten_zehn_min_ff_01011.zip\n",
      "Unpacked: Meta_Daten_zehn_min_ff_01011.zip\n"
     ]
    }
   ],
   "source": [
    "# unpack meta:\n",
    "unpack_from_folder(RAW_DATA_FOLDER_META, TARGET_FOLDER_META)"
   ],
   "metadata": {
    "collapsed": false,
    "ExecuteTime": {
     "end_time": "2023-09-07T22:25:30.066207Z",
     "start_time": "2023-09-07T22:25:29.820123Z"
    }
   },
   "id": "dc9c8c5756f8fa69"
  },
  {
   "cell_type": "code",
   "execution_count": 17,
   "outputs": [
    {
     "name": "stdout",
     "output_type": "stream",
     "text": [
      "Unpacking: 10minutenwerte_wind_00003_19930429_19991231_hist.zip\n",
      "Unpacked: 10minutenwerte_wind_00003_19930429_19991231_hist.zip\n",
      "Unpacking: 10minutenwerte_wind_00011_20100101_20191231_hist.zip\n"
     ]
    },
    {
     "ename": "BadZipFile",
     "evalue": "File is not a zip file",
     "output_type": "error",
     "traceback": [
      "\u001B[0;31m---------------------------------------------------------------------------\u001B[0m",
      "\u001B[0;31mBadZipFile\u001B[0m                                Traceback (most recent call last)",
      "Cell \u001B[0;32mIn[17], line 2\u001B[0m\n\u001B[1;32m      1\u001B[0m \u001B[38;5;66;03m# unpack data:\u001B[39;00m\n\u001B[0;32m----> 2\u001B[0m \u001B[43munpack_from_folder\u001B[49m\u001B[43m(\u001B[49m\u001B[43mRAW_DATA_FOLDER\u001B[49m\u001B[43m,\u001B[49m\u001B[43m \u001B[49m\u001B[43mTARGET_FOLDER\u001B[49m\u001B[43m)\u001B[49m\n",
      "Cell \u001B[0;32mIn[15], line 14\u001B[0m, in \u001B[0;36munpack_from_folder\u001B[0;34m(source_folder, target_folder)\u001B[0m\n\u001B[1;32m     12\u001B[0m \u001B[38;5;28;01mif\u001B[39;00m \u001B[38;5;129;01mnot\u001B[39;00m os\u001B[38;5;241m.\u001B[39mpath\u001B[38;5;241m.\u001B[39mexists(t_folder):\n\u001B[1;32m     13\u001B[0m     os\u001B[38;5;241m.\u001B[39mmakedirs(t_folder)\n\u001B[0;32m---> 14\u001B[0m \u001B[43munpack_data\u001B[49m\u001B[43m(\u001B[49m\u001B[43mfile_path\u001B[49m\u001B[43m,\u001B[49m\u001B[43m \u001B[49m\u001B[43mt_folder\u001B[49m\u001B[43m)\u001B[49m\n\u001B[1;32m     15\u001B[0m \u001B[38;5;28mprint\u001B[39m(\u001B[38;5;124mf\u001B[39m\u001B[38;5;124m\"\u001B[39m\u001B[38;5;124mUnpacked: \u001B[39m\u001B[38;5;132;01m{\u001B[39;00mfile\u001B[38;5;132;01m}\u001B[39;00m\u001B[38;5;124m\"\u001B[39m)\n",
      "Cell \u001B[0;32mIn[15], line 2\u001B[0m, in \u001B[0;36munpack_data\u001B[0;34m(source_folder, target_folder)\u001B[0m\n\u001B[1;32m      1\u001B[0m \u001B[38;5;28;01mdef\u001B[39;00m \u001B[38;5;21munpack_data\u001B[39m(source_folder, target_folder):\n\u001B[0;32m----> 2\u001B[0m     \u001B[38;5;28;01mwith\u001B[39;00m \u001B[43mzipfile\u001B[49m\u001B[38;5;241;43m.\u001B[39;49m\u001B[43mZipFile\u001B[49m\u001B[43m(\u001B[49m\u001B[43msource_folder\u001B[49m\u001B[43m,\u001B[49m\u001B[43m \u001B[49m\u001B[38;5;124;43m'\u001B[39;49m\u001B[38;5;124;43mr\u001B[39;49m\u001B[38;5;124;43m'\u001B[39;49m\u001B[43m)\u001B[49m \u001B[38;5;28;01mas\u001B[39;00m zip_ref:\n\u001B[1;32m      3\u001B[0m         zip_ref\u001B[38;5;241m.\u001B[39mextractall(target_folder)\n",
      "File \u001B[0;32m/Library/Frameworks/Python.framework/Versions/3.11/lib/python3.11/zipfile.py:1302\u001B[0m, in \u001B[0;36mZipFile.__init__\u001B[0;34m(self, file, mode, compression, allowZip64, compresslevel, strict_timestamps, metadata_encoding)\u001B[0m\n\u001B[1;32m   1300\u001B[0m \u001B[38;5;28;01mtry\u001B[39;00m:\n\u001B[1;32m   1301\u001B[0m     \u001B[38;5;28;01mif\u001B[39;00m mode \u001B[38;5;241m==\u001B[39m \u001B[38;5;124m'\u001B[39m\u001B[38;5;124mr\u001B[39m\u001B[38;5;124m'\u001B[39m:\n\u001B[0;32m-> 1302\u001B[0m         \u001B[38;5;28;43mself\u001B[39;49m\u001B[38;5;241;43m.\u001B[39;49m\u001B[43m_RealGetContents\u001B[49m\u001B[43m(\u001B[49m\u001B[43m)\u001B[49m\n\u001B[1;32m   1303\u001B[0m     \u001B[38;5;28;01melif\u001B[39;00m mode \u001B[38;5;129;01min\u001B[39;00m (\u001B[38;5;124m'\u001B[39m\u001B[38;5;124mw\u001B[39m\u001B[38;5;124m'\u001B[39m, \u001B[38;5;124m'\u001B[39m\u001B[38;5;124mx\u001B[39m\u001B[38;5;124m'\u001B[39m):\n\u001B[1;32m   1304\u001B[0m         \u001B[38;5;66;03m# set the modified flag so central directory gets written\u001B[39;00m\n\u001B[1;32m   1305\u001B[0m         \u001B[38;5;66;03m# even if no files are added to the archive\u001B[39;00m\n\u001B[1;32m   1306\u001B[0m         \u001B[38;5;28mself\u001B[39m\u001B[38;5;241m.\u001B[39m_didModify \u001B[38;5;241m=\u001B[39m \u001B[38;5;28;01mTrue\u001B[39;00m\n",
      "File \u001B[0;32m/Library/Frameworks/Python.framework/Versions/3.11/lib/python3.11/zipfile.py:1369\u001B[0m, in \u001B[0;36mZipFile._RealGetContents\u001B[0;34m(self)\u001B[0m\n\u001B[1;32m   1367\u001B[0m     \u001B[38;5;28;01mraise\u001B[39;00m BadZipFile(\u001B[38;5;124m\"\u001B[39m\u001B[38;5;124mFile is not a zip file\u001B[39m\u001B[38;5;124m\"\u001B[39m)\n\u001B[1;32m   1368\u001B[0m \u001B[38;5;28;01mif\u001B[39;00m \u001B[38;5;129;01mnot\u001B[39;00m endrec:\n\u001B[0;32m-> 1369\u001B[0m     \u001B[38;5;28;01mraise\u001B[39;00m BadZipFile(\u001B[38;5;124m\"\u001B[39m\u001B[38;5;124mFile is not a zip file\u001B[39m\u001B[38;5;124m\"\u001B[39m)\n\u001B[1;32m   1370\u001B[0m \u001B[38;5;28;01mif\u001B[39;00m \u001B[38;5;28mself\u001B[39m\u001B[38;5;241m.\u001B[39mdebug \u001B[38;5;241m>\u001B[39m \u001B[38;5;241m1\u001B[39m:\n\u001B[1;32m   1371\u001B[0m     \u001B[38;5;28mprint\u001B[39m(endrec)\n",
      "\u001B[0;31mBadZipFile\u001B[0m: File is not a zip file"
     ]
    }
   ],
   "source": [
    "# unpack data:\n",
    "unpack_from_folder(RAW_DATA_FOLDER, TARGET_FOLDER)"
   ],
   "metadata": {
    "collapsed": false,
    "ExecuteTime": {
     "end_time": "2023-09-07T22:25:30.188903Z",
     "start_time": "2023-09-07T22:25:30.052010Z"
    }
   },
   "id": "caf57c48449fcdae"
  }
 ],
 "metadata": {
  "kernelspec": {
   "display_name": "Python 3",
   "language": "python",
   "name": "python3"
  },
  "language_info": {
   "codemirror_mode": {
    "name": "ipython",
    "version": 2
   },
   "file_extension": ".py",
   "mimetype": "text/x-python",
   "name": "python",
   "nbconvert_exporter": "python",
   "pygments_lexer": "ipython2",
   "version": "2.7.6"
  }
 },
 "nbformat": 4,
 "nbformat_minor": 5
}
