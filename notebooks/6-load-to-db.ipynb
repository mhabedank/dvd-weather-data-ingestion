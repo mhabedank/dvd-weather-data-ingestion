{
 "cells": [
  {
   "cell_type": "markdown",
   "source": [
    "# Dateningestierung\n",
    "\n",
    "Die Daten werden nun aus den Parquet Files geladen und dann in die Datenbank überführt"
   ],
   "metadata": {
    "collapsed": false
   },
   "id": "af0d5dbdc074a40"
  },
  {
   "cell_type": "markdown",
   "source": [],
   "metadata": {
    "collapsed": false
   },
   "id": "cf7699de92b9e444"
  },
  {
   "cell_type": "code",
   "execution_count": 23,
   "outputs": [
    {
     "data": {
      "text/plain": "True"
     },
     "execution_count": 23,
     "metadata": {},
     "output_type": "execute_result"
    }
   ],
   "source": [
    "import pandas as pd\n",
    "from dotenv import load_dotenv\n",
    "import os\n",
    "from src.models import db, Station, StationName, StationLocation, Wind10Minutes, model_init\n",
    "import numpy as np\n",
    "\n",
    "load_dotenv()\n",
    "\n",
    "# Datenmodel initalisieren. Dabei werden alle vorherigen Daten gelöscht.\n",
    "# model_init()"
   ],
   "metadata": {
    "collapsed": false,
    "ExecuteTime": {
     "end_time": "2023-09-01T08:00:33.410086Z",
     "start_time": "2023-09-01T08:00:33.377711Z"
    }
   },
   "id": "693e7f98337c6596"
  },
  {
   "cell_type": "code",
   "execution_count": 24,
   "outputs": [],
   "source": [
    "PARQUET_FOLDER = os.path.join(os.getenv('PROJECT_DIR'), 'data','interim', 'parquet' )\n",
    "\n",
    "GEO_PARQUET_FILE_PATH = os.path.join(PARQUET_FOLDER, 'geo.parquet')\n",
    "NAME_PARQUET_FILE_PATH = os.path.join(PARQUET_FOLDER, 'name.parquet')\n",
    "WIND_PARQUET_FILE_PATH = os.path.join(PARQUET_FOLDER, 'wind.parquet')\n",
    "\n"
   ],
   "metadata": {
    "collapsed": false,
    "ExecuteTime": {
     "end_time": "2023-09-01T08:00:33.415517Z",
     "start_time": "2023-09-01T08:00:33.392904Z"
    }
   },
   "id": "7231233824b48aea"
  },
  {
   "cell_type": "code",
   "execution_count": 25,
   "outputs": [],
   "source": [
    "geo_df = pd.read_parquet(GEO_PARQUET_FILE_PATH)\n",
    "name_df = pd.read_parquet(NAME_PARQUET_FILE_PATH)\n"
   ],
   "metadata": {
    "collapsed": false,
    "ExecuteTime": {
     "end_time": "2023-09-01T08:00:33.418089Z",
     "start_time": "2023-09-01T08:00:33.399499Z"
    }
   },
   "id": "4247ed6d186f1213"
  },
  {
   "cell_type": "code",
   "execution_count": 26,
   "outputs": [
    {
     "name": "stdout",
     "output_type": "stream",
     "text": [
      "<class 'pandas.core.frame.DataFrame'>\n",
      "Index: 2895037 entries, 0 to 157823\n",
      "Data columns (total 5 columns):\n",
      " #   Column         Dtype         \n",
      "---  ------         -----         \n",
      " 0   station_id     int64         \n",
      " 1   timestamp      datetime64[ns]\n",
      " 2   quality        int64         \n",
      " 3   avg_speed      float64       \n",
      " 4   avg_direction  float64       \n",
      "dtypes: datetime64[ns](1), float64(2), int64(2)\n",
      "memory usage: 132.5 MB\n"
     ]
    }
   ],
   "source": [
    "wind_df = pd.read_parquet(WIND_PARQUET_FILE_PATH, engine='pyarrow')\n",
    "wind_df.info()"
   ],
   "metadata": {
    "collapsed": false,
    "ExecuteTime": {
     "end_time": "2023-09-01T08:00:33.616133Z",
     "start_time": "2023-09-01T08:00:33.417161Z"
    }
   },
   "id": "6eb9d1bffbae761"
  },
  {
   "cell_type": "code",
   "execution_count": 27,
   "outputs": [
    {
     "name": "stdout",
     "output_type": "stream",
     "text": [
      "Deleted 0 wind data\n",
      "Deleted 450 station names\n",
      "Deleted 0 station locations\n",
      "Deleted 310 stations\n"
     ]
    }
   ],
   "source": [
    "with db.atomic():\n",
    "    \n",
    "    print(f\"Deleted {Wind10Minutes.delete().execute()} wind data\")\n",
    "    print(f\"Deleted {StationName.delete().execute()} station names\")\n",
    "    print(f\"Deleted {StationLocation.delete().execute()} station locations\")    \n",
    "    print(f\"Deleted {Station.delete().execute()} stations\")\n",
    "    \n"
   ],
   "metadata": {
    "collapsed": false,
    "ExecuteTime": {
     "end_time": "2023-09-01T08:00:34.296008Z",
     "start_time": "2023-09-01T08:00:33.621826Z"
    }
   },
   "id": "initial_id"
  },
  {
   "cell_type": "code",
   "execution_count": 28,
   "outputs": [
    {
     "name": "stdout",
     "output_type": "stream",
     "text": [
      "Inserted 310 stations\n",
      "Inserted 450 station names\n",
      "Inserted 1264 station locations\n"
     ]
    }
   ],
   "source": [
    "\n",
    "# insert stations\n",
    "stations_data = [{'id': sid} for sid in geo_df['station_id'].unique().tolist()]\n",
    "Station.insert_many(stations_data).execute()\n",
    "print(f\"Inserted {Station.select().count()} stations\")\n",
    "\n",
    "# insert station names\n",
    "station_names_data = name_df.replace({np.nan: None}).to_dict(orient=\"records\")\n",
    "StationName.insert_many(station_names_data).execute()\n",
    "print(f\"Inserted {StationName.select().count()} station names\")\n",
    "\n",
    "# insert station locations\n",
    "station_locations_data = geo_df.drop(columns=['station_name', 'state']).replace({np.nan: None}).to_dict(orient=\"records\")\n",
    "StationLocation.insert_many(station_locations_data).execute()\n",
    "print(f\"Inserted {StationLocation.select().count()} station locations\")\n"
   ],
   "metadata": {
    "collapsed": false,
    "ExecuteTime": {
     "end_time": "2023-09-01T08:00:35.383912Z",
     "start_time": "2023-09-01T08:00:34.305176Z"
    }
   },
   "id": "1bccbcca364b24a9"
  },
  {
   "cell_type": "code",
   "execution_count": 29,
   "outputs": [
    {
     "name": "stdout",
     "output_type": "stream",
     "text": [
      "Will insert 2895037 data points\n",
      "Deleted 0 wind data\n",
      "Inserted 2895037 wind data7 data points\n"
     ]
    }
   ],
   "source": [
    "#insert wind data\n",
    "wind_data = wind_df.replace({np.nan: None}).rename(columns={'station_id': 'station'}).to_dict(orient=\"records\")\n",
    "print(f\"Will insert {len(wind_data)} data points\")\n",
    "\n",
    "# split into chunks of 1000\n",
    "wind_data_splitted = [wind_data[i:i + 10000] for i in range(0, len(wind_data), 10000)]\n",
    "print(f\"Deleted {Wind10Minutes.delete().execute()} wind data\")\n",
    "for i, wind in enumerate(wind_data_splitted):\n",
    "    Wind10Minutes.insert_many(wind).execute()\n",
    "    print(f\"inserted {(i+1)*10000} of {len(wind_data)} data points\", end=\"\\r\")\n",
    "#Wind10Minutes.insert_many(wind_data).execute()\n",
    "print(f\"Inserted {Wind10Minutes.select().count()} wind data\")"
   ],
   "metadata": {
    "collapsed": false,
    "ExecuteTime": {
     "end_time": "2023-09-01T08:09:37.550245Z",
     "start_time": "2023-09-01T08:00:35.390015Z"
    }
   },
   "id": "7a659627edbcb05c"
  },
  {
   "cell_type": "code",
   "execution_count": 30,
   "outputs": [
    {
     "name": "stdout",
     "output_type": "stream",
     "text": [
      "<class 'pandas.core.frame.DataFrame'>\n",
      "Index: 2895037 entries, 0 to 157823\n",
      "Data columns (total 5 columns):\n",
      " #   Column         Dtype         \n",
      "---  ------         -----         \n",
      " 0   station_id     int64         \n",
      " 1   timestamp      datetime64[ns]\n",
      " 2   quality        int64         \n",
      " 3   avg_speed      float64       \n",
      " 4   avg_direction  float64       \n",
      "dtypes: datetime64[ns](1), float64(2), int64(2)\n",
      "memory usage: 132.5 MB\n"
     ]
    }
   ],
   "source": [
    "wind_df.info()"
   ],
   "metadata": {
    "collapsed": false,
    "ExecuteTime": {
     "end_time": "2023-09-01T08:09:37.556581Z",
     "start_time": "2023-09-01T08:09:37.554260Z"
    }
   },
   "id": "977a1d136fde834d"
  },
  {
   "cell_type": "code",
   "execution_count": 30,
   "outputs": [],
   "source": [],
   "metadata": {
    "collapsed": false,
    "ExecuteTime": {
     "end_time": "2023-09-01T08:09:37.563662Z",
     "start_time": "2023-09-01T08:09:37.556360Z"
    }
   },
   "id": "18f7e1efdacea095"
  }
 ],
 "metadata": {
  "kernelspec": {
   "display_name": "Python 3",
   "language": "python",
   "name": "python3"
  },
  "language_info": {
   "codemirror_mode": {
    "name": "ipython",
    "version": 2
   },
   "file_extension": ".py",
   "mimetype": "text/x-python",
   "name": "python",
   "nbconvert_exporter": "python",
   "pygments_lexer": "ipython2",
   "version": "2.7.6"
  }
 },
 "nbformat": 4,
 "nbformat_minor": 5
}
