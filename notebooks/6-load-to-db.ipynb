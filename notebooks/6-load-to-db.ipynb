{
 "cells": [
  {
   "cell_type": "markdown",
   "source": [
    "# Dateningestierung\n",
    "\n",
    "Die Daten werden nun aus den Parquet Files geladen und dann in die Datenbank überführt"
   ],
   "metadata": {
    "collapsed": false
   },
   "id": "af0d5dbdc074a40"
  },
  {
   "cell_type": "code",
   "execution_count": 13,
   "outputs": [],
   "source": [
    "import pandas as pd\n",
    "from dotenv import load_dotenv\n",
    "import os\n",
    "from src.models import db, Station, StationName, StationLocation, Wind10Minutes, model_init\n",
    "import numpy as np\n",
    "\n",
    "load_dotenv()\n",
    "\n",
    "# Datenmodel initalisieren. Dabei werden alle vorherigen Daten gelöscht.\n",
    "model_init()"
   ],
   "metadata": {
    "collapsed": false,
    "ExecuteTime": {
     "end_time": "2023-08-30T20:55:52.670230Z",
     "start_time": "2023-08-30T20:55:51.456300Z"
    }
   },
   "id": "693e7f98337c6596"
  },
  {
   "cell_type": "code",
   "execution_count": 14,
   "outputs": [],
   "source": [
    "PARQUET_FOLDER = os.path.join(os.getenv('PROJECT_DIR'), 'data','interim', 'parquet' )\n",
    "\n",
    "GEO_PARQUET_FILE_PATH = os.path.join(PARQUET_FOLDER, 'geo.parquet')\n",
    "NAME_PARQUET_FILE_PATH = os.path.join(PARQUET_FOLDER, 'name.parquet')\n",
    "WIND_PARQUET_FILE_PATH = os.path.join(PARQUET_FOLDER, 'wind.parquet')\n",
    "\n"
   ],
   "metadata": {
    "collapsed": false,
    "ExecuteTime": {
     "end_time": "2023-08-30T20:55:52.675949Z",
     "start_time": "2023-08-30T20:55:52.673267Z"
    }
   },
   "id": "7231233824b48aea"
  },
  {
   "cell_type": "code",
   "execution_count": 15,
   "outputs": [],
   "source": [
    "geo_df = pd.read_parquet(GEO_PARQUET_FILE_PATH)\n",
    "name_df = pd.read_parquet(NAME_PARQUET_FILE_PATH)\n",
    "\n",
    "wind_df = pd.read_parquet(WIND_PARQUET_FILE_PATH, engine='pyarrow')"
   ],
   "metadata": {
    "collapsed": false,
    "ExecuteTime": {
     "end_time": "2023-08-30T20:55:55.844090Z",
     "start_time": "2023-08-30T20:55:52.677605Z"
    }
   },
   "id": "124bec009cf72374"
  },
  {
   "cell_type": "code",
   "execution_count": 16,
   "outputs": [
    {
     "name": "stdout",
     "output_type": "stream",
     "text": [
      "Deleted 0 station names\n",
      "Deleted 0 station locations\n",
      "Deleted 0 stations\n",
      "Deleted 0 wind data\n"
     ]
    }
   ],
   "source": [
    "with db.atomic():\n",
    "    \n",
    "    print(f\"Deleted {StationName.delete().execute()} station names\")\n",
    "    print(f\"Deleted {StationLocation.delete().execute()} station locations\")    \n",
    "    print(f\"Deleted {Station.delete().execute()} stations\")\n",
    "    print(f\"Deleted {Wind10Minutes.delete().execute()} wind data\")\n"
   ],
   "metadata": {
    "collapsed": false,
    "ExecuteTime": {
     "end_time": "2023-08-30T20:55:56.485508Z",
     "start_time": "2023-08-30T20:55:55.851295Z"
    }
   },
   "id": "initial_id"
  },
  {
   "cell_type": "code",
   "execution_count": null,
   "outputs": [],
   "source": [
    "\n",
    "# insert stations\n",
    "stations_data = [{'id': sid} for sid in geo_df['station_id'].unique().tolist()]\n",
    "Station.insert_many(stations_data).execute()\n",
    "\n",
    "# insert station names\n",
    "station_names_data = name_df.replace({np.nan: None}).to_dict(orient=\"records\")\n",
    "StationName.insert_many(station_names_data).execute()\n",
    "\n",
    "# insert station locations\n",
    "station_locations_data = geo_df.drop(columns=['station_name', 'state']).replace({np.nan: None}).to_dict(orient=\"records\")\n",
    "StationLocation.insert_many(station_locations_data).execute()\n",
    "\n",
    "#insert wind data\n",
    "wind_data = wind_df.replace({np.nan: None}).rename(columns={'station_id': 'station'}).to_dict(orient=\"records\")\n",
    "Wind10Minutes.insert_many(wind_data).execute()"
   ],
   "metadata": {
    "collapsed": false,
    "is_executing": true,
    "ExecuteTime": {
     "start_time": "2023-08-30T20:55:56.494974Z"
    }
   },
   "id": "731f79c61a3e6386"
  },
  {
   "cell_type": "code",
   "execution_count": null,
   "outputs": [],
   "source": [
    "print(f\"Inserted {Station.select().count()} stations\")\n",
    "print(f\"Inserted {StationName.select().count()} station names\")\n",
    "print(f\"Inserted {StationLocation.select().count()} station locations\")\n",
    "print(f\"Inserted {Wind10Minutes.select().count()} wind data\")"
   ],
   "metadata": {
    "collapsed": false,
    "is_executing": true
   },
   "id": "be6716b2d77dea97"
  }
 ],
 "metadata": {
  "kernelspec": {
   "display_name": "Python 3",
   "language": "python",
   "name": "python3"
  },
  "language_info": {
   "codemirror_mode": {
    "name": "ipython",
    "version": 2
   },
   "file_extension": ".py",
   "mimetype": "text/x-python",
   "name": "python",
   "nbconvert_exporter": "python",
   "pygments_lexer": "ipython2",
   "version": "2.7.6"
  }
 },
 "nbformat": 4,
 "nbformat_minor": 5
}
