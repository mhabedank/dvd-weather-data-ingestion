{
 "cells": [
  {
   "cell_type": "markdown",
   "source": [
    "# Beispiel zur Validierung mit Great Expectations\n",
    "Mithilfe von Great Expecations werden die Daten nun validiert. Am Ende wird ein HTML-Bericht erstellt, der die Validierungsergebnisse darstellt."
   ],
   "metadata": {
    "collapsed": false
   },
   "id": "c2458a1f3c638dec"
  },
  {
   "cell_type": "code",
   "execution_count": 1,
   "outputs": [],
   "source": [
    "import great_expectations as gx\n",
    "from great_expectations.validator.validator import Validator\n",
    "\n",
    "from dotenv import load_dotenv\n",
    "import os \n",
    "\n",
    "load_dotenv()\n",
    "\n",
    "AWS_RDS_CONNECTION_STRING = os.getenv(\"AWS_RDS_CONNECTION_STRING\")"
   ],
   "metadata": {
    "collapsed": false,
    "ExecuteTime": {
     "start_time": "2023-10-27T03:57:11.656779Z"
    }
   },
   "id": "initial_id"
  },
  {
   "cell_type": "code",
   "execution_count": 2,
   "outputs": [],
   "source": [
    "context = gx.get_context(context_root_dir=\"../great_expectations\")"
   ],
   "metadata": {
    "collapsed": false,
    "ExecuteTime": {
     "end_time": "2023-10-27T03:57:34.157724Z",
     "start_time": "2023-10-27T03:57:34.029997Z"
    }
   },
   "id": "d42ef49f21dfceb9"
  },
  {
   "cell_type": "code",
   "execution_count": 3,
   "outputs": [],
   "source": [
    "data_asset = context.get_datasource(\"weather_data\").get_asset(\"station_location\")\n",
    "batch_request = data_asset.build_batch_request()"
   ],
   "metadata": {
    "collapsed": false,
    "ExecuteTime": {
     "end_time": "2023-10-27T03:57:34.166509Z",
     "start_time": "2023-10-27T03:57:34.158367Z"
    }
   },
   "id": "4058dbee1865f40"
  },
  {
   "cell_type": "code",
   "execution_count": 4,
   "outputs": [
    {
     "data": {
      "text/plain": "{\n  \"expectation_suite_name\": \"station_location_expectations\",\n  \"ge_cloud_id\": null,\n  \"expectations\": [],\n  \"data_asset_type\": null,\n  \"meta\": {\n    \"great_expectations_version\": \"0.17.15\"\n  }\n}"
     },
     "execution_count": 4,
     "metadata": {},
     "output_type": "execute_result"
    }
   ],
   "source": [
    "context.add_or_update_expectation_suite(\"station_location_expectations\")"
   ],
   "metadata": {
    "collapsed": false,
    "ExecuteTime": {
     "end_time": "2023-10-27T03:57:34.200861Z",
     "start_time": "2023-10-27T03:57:34.168802Z"
    }
   },
   "id": "a19a28510e160c2b"
  },
  {
   "cell_type": "code",
   "execution_count": 5,
   "outputs": [],
   "source": [
    "validator:Validator = context.get_validator(\n",
    "    batch_request=batch_request,\n",
    "    expectation_suite_name=\"station_location_expectations\",\n",
    ")"
   ],
   "metadata": {
    "collapsed": false,
    "ExecuteTime": {
     "end_time": "2023-10-27T03:57:36.800895Z",
     "start_time": "2023-10-27T03:57:34.196367Z"
    }
   },
   "id": "206810de3a00e788"
  },
  {
   "cell_type": "code",
   "execution_count": 6,
   "outputs": [
    {
     "data": {
      "text/plain": "Calculating Metrics:   0%|          | 0/2 [00:00<?, ?it/s]",
      "application/vnd.jupyter.widget-view+json": {
       "version_major": 2,
       "version_minor": 0,
       "model_id": "db8ccf24806548f9af7ae8ec847a9127"
      }
     },
     "metadata": {},
     "output_type": "display_data"
    },
    {
     "data": {
      "text/plain": "Calculating Metrics:   0%|          | 0/2 [00:00<?, ?it/s]",
      "application/vnd.jupyter.widget-view+json": {
       "version_major": 2,
       "version_minor": 0,
       "model_id": "700c1d47b7584108a30ecc199cf3f3ca"
      }
     },
     "metadata": {},
     "output_type": "display_data"
    },
    {
     "data": {
      "text/plain": "Calculating Metrics:   0%|          | 0/2 [00:00<?, ?it/s]",
      "application/vnd.jupyter.widget-view+json": {
       "version_major": 2,
       "version_minor": 0,
       "model_id": "c27f6128cacd44029b42d95092f15889"
      }
     },
     "metadata": {},
     "output_type": "display_data"
    },
    {
     "data": {
      "text/plain": "Calculating Metrics:   0%|          | 0/2 [00:00<?, ?it/s]",
      "application/vnd.jupyter.widget-view+json": {
       "version_major": 2,
       "version_minor": 0,
       "model_id": "aaf9a95de1de422482f82166ad8e444c"
      }
     },
     "metadata": {},
     "output_type": "display_data"
    },
    {
     "data": {
      "text/plain": "Calculating Metrics:   0%|          | 0/2 [00:00<?, ?it/s]",
      "application/vnd.jupyter.widget-view+json": {
       "version_major": 2,
       "version_minor": 0,
       "model_id": "869783eba659460da0fdc203f3b39899"
      }
     },
     "metadata": {},
     "output_type": "display_data"
    },
    {
     "data": {
      "text/plain": "Calculating Metrics:   0%|          | 0/2 [00:00<?, ?it/s]",
      "application/vnd.jupyter.widget-view+json": {
       "version_major": 2,
       "version_minor": 0,
       "model_id": "705c9d03c9264568b03b88e490b44d8f"
      }
     },
     "metadata": {},
     "output_type": "display_data"
    },
    {
     "data": {
      "text/plain": "Calculating Metrics:   0%|          | 0/2 [00:00<?, ?it/s]",
      "application/vnd.jupyter.widget-view+json": {
       "version_major": 2,
       "version_minor": 0,
       "model_id": "da17236472a4452f94defae456b3a6eb"
      }
     },
     "metadata": {},
     "output_type": "display_data"
    },
    {
     "data": {
      "text/plain": "Calculating Metrics:   0%|          | 0/10 [00:00<?, ?it/s]",
      "application/vnd.jupyter.widget-view+json": {
       "version_major": 2,
       "version_minor": 0,
       "model_id": "804d19fb4cab412d99428e891b06c360"
      }
     },
     "metadata": {},
     "output_type": "display_data"
    },
    {
     "data": {
      "text/plain": "Calculating Metrics:   0%|          | 0/11 [00:00<?, ?it/s]",
      "application/vnd.jupyter.widget-view+json": {
       "version_major": 2,
       "version_minor": 0,
       "model_id": "2dd5bdfd6d0a48d6a64e99489737f041"
      }
     },
     "metadata": {},
     "output_type": "display_data"
    },
    {
     "data": {
      "text/plain": "Calculating Metrics:   0%|          | 0/11 [00:00<?, ?it/s]",
      "application/vnd.jupyter.widget-view+json": {
       "version_major": 2,
       "version_minor": 0,
       "model_id": "39e1c5c861854650992d5462d10125fb"
      }
     },
     "metadata": {},
     "output_type": "display_data"
    },
    {
     "data": {
      "text/plain": "Calculating Metrics:   0%|          | 0/11 [00:00<?, ?it/s]",
      "application/vnd.jupyter.widget-view+json": {
       "version_major": 2,
       "version_minor": 0,
       "model_id": "54b09598b58b45f2a35015728825734c"
      }
     },
     "metadata": {},
     "output_type": "display_data"
    },
    {
     "data": {
      "text/plain": "Calculating Metrics:   0%|          | 0/8 [00:00<?, ?it/s]",
      "application/vnd.jupyter.widget-view+json": {
       "version_major": 2,
       "version_minor": 0,
       "model_id": "dd981f07584f45bd9f0b89270b225f53"
      }
     },
     "metadata": {},
     "output_type": "display_data"
    }
   ],
   "source": [
    "validator.expect_column_to_exist(\"id\")\n",
    "validator.expect_column_to_exist(\"station_id\")\n",
    "validator.expect_column_to_exist(\"latitude\")\n",
    "validator.expect_column_to_exist(\"longitude\")\n",
    "validator.expect_column_to_exist(\"altitude\")\n",
    "validator.expect_column_to_exist(\"from_date\")\n",
    "validator.expect_column_to_exist(\"to_date\")\n",
    "\n",
    "validator.expect_column_values_to_be_unique(\"id\")\n",
    "\n",
    "# Maxima Punkte siehe https://de.wikipedia.org/wiki/Liste_der_Extrempunkte_Deutschlands\n",
    "validator.expect_column_values_to_be_between(\n",
    "    \"latitude\", min_value=-47.270111, max_value=55.0846,\n",
    ")\n",
    "validator.expect_column_values_to_be_between(\n",
    "    \"longitude\", min_value=5.86633, max_value=15.04193\n",
    ")\n",
    "validator.expect_column_values_to_be_between(\n",
    "    \"altitude\", min_value=-4, max_value=3000\n",
    ")\n",
    "\n",
    "validator.expect_column_values_to_not_be_null(\"from_date\")\n",
    "\n",
    "validator.save_expectation_suite()\n"
   ],
   "metadata": {
    "collapsed": false,
    "ExecuteTime": {
     "end_time": "2023-10-27T03:57:49.187899Z",
     "start_time": "2023-10-27T03:57:36.801167Z"
    }
   },
   "id": "b009ab0eb287e189"
  },
  {
   "cell_type": "code",
   "execution_count": 7,
   "outputs": [],
   "source": [
    "checkpoint = context.add_or_update_checkpoint(\n",
    "    name=\"weather_checkpoint\",\n",
    "    validations=[\n",
    "        {\n",
    "            \"batch_request\": batch_request,\n",
    "            \"expectation_suite_name\": \"station_location_expectations\",\n",
    "        },\n",
    "    ],\n",
    ")"
   ],
   "metadata": {
    "collapsed": false,
    "ExecuteTime": {
     "end_time": "2023-10-27T03:57:49.206293Z",
     "start_time": "2023-10-27T03:57:49.189885Z"
    }
   },
   "id": "864b3325a702d9"
  },
  {
   "cell_type": "code",
   "execution_count": 8,
   "outputs": [
    {
     "data": {
      "text/plain": "Calculating Metrics:   0%|          | 0/45 [00:00<?, ?it/s]",
      "application/vnd.jupyter.widget-view+json": {
       "version_major": 2,
       "version_minor": 0,
       "model_id": "1364dbb63f1a4faaa76fbe79846a587a"
      }
     },
     "metadata": {},
     "output_type": "display_data"
    },
    {
     "data": {
      "text/plain": "{\n  \"run_id\": {\n    \"run_name\": null,\n    \"run_time\": \"2023-10-27T05:57:49.210532+02:00\"\n  },\n  \"run_results\": {\n    \"ValidationResultIdentifier::station_location_expectations/__none__/20231027T035749.210532Z/weather_data-station_location\": {\n      \"validation_result\": {\n        \"success\": true,\n        \"results\": [\n          {\n            \"success\": true,\n            \"expectation_config\": {\n              \"expectation_type\": \"expect_column_to_exist\",\n              \"kwargs\": {\n                \"column\": \"id\",\n                \"batch_id\": \"weather_data-station_location\"\n              },\n              \"meta\": {}\n            },\n            \"result\": {},\n            \"meta\": {},\n            \"exception_info\": {\n              \"raised_exception\": false,\n              \"exception_traceback\": null,\n              \"exception_message\": null\n            }\n          },\n          {\n            \"success\": true,\n            \"expectation_config\": {\n              \"expectation_type\": \"expect_column_values_to_be_unique\",\n              \"kwargs\": {\n                \"column\": \"id\",\n                \"batch_id\": \"weather_data-station_location\"\n              },\n              \"meta\": {}\n            },\n            \"result\": {\n              \"element_count\": 1268,\n              \"unexpected_count\": 0,\n              \"unexpected_percent\": 0.0,\n              \"partial_unexpected_list\": [],\n              \"missing_count\": 0,\n              \"missing_percent\": 0.0,\n              \"unexpected_percent_total\": 0.0,\n              \"unexpected_percent_nonmissing\": 0.0,\n              \"partial_unexpected_counts\": []\n            },\n            \"meta\": {},\n            \"exception_info\": {\n              \"raised_exception\": false,\n              \"exception_traceback\": null,\n              \"exception_message\": null\n            }\n          },\n          {\n            \"success\": true,\n            \"expectation_config\": {\n              \"expectation_type\": \"expect_column_to_exist\",\n              \"kwargs\": {\n                \"column\": \"station_id\",\n                \"batch_id\": \"weather_data-station_location\"\n              },\n              \"meta\": {}\n            },\n            \"result\": {},\n            \"meta\": {},\n            \"exception_info\": {\n              \"raised_exception\": false,\n              \"exception_traceback\": null,\n              \"exception_message\": null\n            }\n          },\n          {\n            \"success\": true,\n            \"expectation_config\": {\n              \"expectation_type\": \"expect_column_to_exist\",\n              \"kwargs\": {\n                \"column\": \"latitude\",\n                \"batch_id\": \"weather_data-station_location\"\n              },\n              \"meta\": {}\n            },\n            \"result\": {},\n            \"meta\": {},\n            \"exception_info\": {\n              \"raised_exception\": false,\n              \"exception_traceback\": null,\n              \"exception_message\": null\n            }\n          },\n          {\n            \"success\": true,\n            \"expectation_config\": {\n              \"expectation_type\": \"expect_column_values_to_be_between\",\n              \"kwargs\": {\n                \"column\": \"latitude\",\n                \"max_value\": 55.0846,\n                \"min_value\": -47.270111,\n                \"batch_id\": \"weather_data-station_location\"\n              },\n              \"meta\": {}\n            },\n            \"result\": {\n              \"element_count\": 1268,\n              \"unexpected_count\": 0,\n              \"unexpected_percent\": 0.0,\n              \"partial_unexpected_list\": [],\n              \"missing_count\": 0,\n              \"missing_percent\": 0.0,\n              \"unexpected_percent_total\": 0.0,\n              \"unexpected_percent_nonmissing\": 0.0,\n              \"partial_unexpected_counts\": []\n            },\n            \"meta\": {},\n            \"exception_info\": {\n              \"raised_exception\": false,\n              \"exception_traceback\": null,\n              \"exception_message\": null\n            }\n          },\n          {\n            \"success\": true,\n            \"expectation_config\": {\n              \"expectation_type\": \"expect_column_to_exist\",\n              \"kwargs\": {\n                \"column\": \"longitude\",\n                \"batch_id\": \"weather_data-station_location\"\n              },\n              \"meta\": {}\n            },\n            \"result\": {},\n            \"meta\": {},\n            \"exception_info\": {\n              \"raised_exception\": false,\n              \"exception_traceback\": null,\n              \"exception_message\": null\n            }\n          },\n          {\n            \"success\": true,\n            \"expectation_config\": {\n              \"expectation_type\": \"expect_column_values_to_be_between\",\n              \"kwargs\": {\n                \"column\": \"longitude\",\n                \"max_value\": 15.04193,\n                \"min_value\": 5.86633,\n                \"batch_id\": \"weather_data-station_location\"\n              },\n              \"meta\": {}\n            },\n            \"result\": {\n              \"element_count\": 1268,\n              \"unexpected_count\": 0,\n              \"unexpected_percent\": 0.0,\n              \"partial_unexpected_list\": [],\n              \"missing_count\": 0,\n              \"missing_percent\": 0.0,\n              \"unexpected_percent_total\": 0.0,\n              \"unexpected_percent_nonmissing\": 0.0,\n              \"partial_unexpected_counts\": []\n            },\n            \"meta\": {},\n            \"exception_info\": {\n              \"raised_exception\": false,\n              \"exception_traceback\": null,\n              \"exception_message\": null\n            }\n          },\n          {\n            \"success\": true,\n            \"expectation_config\": {\n              \"expectation_type\": \"expect_column_to_exist\",\n              \"kwargs\": {\n                \"column\": \"altitude\",\n                \"batch_id\": \"weather_data-station_location\"\n              },\n              \"meta\": {}\n            },\n            \"result\": {},\n            \"meta\": {},\n            \"exception_info\": {\n              \"raised_exception\": false,\n              \"exception_traceback\": null,\n              \"exception_message\": null\n            }\n          },\n          {\n            \"success\": true,\n            \"expectation_config\": {\n              \"expectation_type\": \"expect_column_values_to_be_between\",\n              \"kwargs\": {\n                \"column\": \"altitude\",\n                \"max_value\": 3000,\n                \"min_value\": -4,\n                \"batch_id\": \"weather_data-station_location\"\n              },\n              \"meta\": {}\n            },\n            \"result\": {\n              \"element_count\": 1268,\n              \"unexpected_count\": 0,\n              \"unexpected_percent\": 0.0,\n              \"partial_unexpected_list\": [],\n              \"missing_count\": 0,\n              \"missing_percent\": 0.0,\n              \"unexpected_percent_total\": 0.0,\n              \"unexpected_percent_nonmissing\": 0.0,\n              \"partial_unexpected_counts\": []\n            },\n            \"meta\": {},\n            \"exception_info\": {\n              \"raised_exception\": false,\n              \"exception_traceback\": null,\n              \"exception_message\": null\n            }\n          },\n          {\n            \"success\": true,\n            \"expectation_config\": {\n              \"expectation_type\": \"expect_column_to_exist\",\n              \"kwargs\": {\n                \"column\": \"from_date\",\n                \"batch_id\": \"weather_data-station_location\"\n              },\n              \"meta\": {}\n            },\n            \"result\": {},\n            \"meta\": {},\n            \"exception_info\": {\n              \"raised_exception\": false,\n              \"exception_traceback\": null,\n              \"exception_message\": null\n            }\n          },\n          {\n            \"success\": true,\n            \"expectation_config\": {\n              \"expectation_type\": \"expect_column_values_to_not_be_null\",\n              \"kwargs\": {\n                \"column\": \"from_date\",\n                \"batch_id\": \"weather_data-station_location\"\n              },\n              \"meta\": {}\n            },\n            \"result\": {\n              \"element_count\": 1268,\n              \"unexpected_count\": 0,\n              \"unexpected_percent\": 0.0,\n              \"partial_unexpected_list\": [],\n              \"partial_unexpected_counts\": []\n            },\n            \"meta\": {},\n            \"exception_info\": {\n              \"raised_exception\": false,\n              \"exception_traceback\": null,\n              \"exception_message\": null\n            }\n          },\n          {\n            \"success\": true,\n            \"expectation_config\": {\n              \"expectation_type\": \"expect_column_to_exist\",\n              \"kwargs\": {\n                \"column\": \"to_date\",\n                \"batch_id\": \"weather_data-station_location\"\n              },\n              \"meta\": {}\n            },\n            \"result\": {},\n            \"meta\": {},\n            \"exception_info\": {\n              \"raised_exception\": false,\n              \"exception_traceback\": null,\n              \"exception_message\": null\n            }\n          }\n        ],\n        \"evaluation_parameters\": {},\n        \"statistics\": {\n          \"evaluated_expectations\": 12,\n          \"successful_expectations\": 12,\n          \"unsuccessful_expectations\": 0,\n          \"success_percent\": 100.0\n        },\n        \"meta\": {\n          \"great_expectations_version\": \"0.17.15\",\n          \"expectation_suite_name\": \"station_location_expectations\",\n          \"run_id\": {\n            \"run_name\": null,\n            \"run_time\": \"2023-10-27T05:57:49.210532+02:00\"\n          },\n          \"batch_spec\": {\n            \"type\": \"table\",\n            \"data_asset_name\": \"station_location\",\n            \"table_name\": \"station_location\",\n            \"schema_name\": \"public\",\n            \"batch_identifiers\": {}\n          },\n          \"batch_markers\": {\n            \"ge_load_time\": \"20231027T035749.234242Z\"\n          },\n          \"active_batch_definition\": {\n            \"datasource_name\": \"weather_data\",\n            \"data_connector_name\": \"fluent\",\n            \"data_asset_name\": \"station_location\",\n            \"batch_identifiers\": {}\n          },\n          \"validation_time\": \"20231027T035749.557871Z\",\n          \"checkpoint_name\": \"weather_checkpoint\",\n          \"validation_id\": null,\n          \"checkpoint_id\": null\n        }\n      },\n      \"actions_results\": {\n        \"store_validation_result\": {\n          \"class\": \"StoreValidationResultAction\"\n        },\n        \"store_evaluation_params\": {\n          \"class\": \"StoreEvaluationParametersAction\"\n        },\n        \"update_data_docs\": {\n          \"local_site\": \"file:///Users/m.habedank/Projects/private/DBU/dwd-weather-data-ingestion/notebooks/../great_expectations/uncommitted/data_docs/local_site/validations/station_location_expectations/__none__/20231027T035749.210532Z/weather_data-station_location.html\",\n          \"class\": \"UpdateDataDocsAction\"\n        }\n      }\n    }\n  },\n  \"checkpoint_config\": {\n    \"name\": \"weather_checkpoint\",\n    \"notify_on\": null,\n    \"config_version\": 1.0,\n    \"run_name_template\": null,\n    \"expectation_suite_name\": null,\n    \"notify_with\": null,\n    \"runtime_configuration\": {},\n    \"batch_request\": {},\n    \"evaluation_parameters\": {},\n    \"profilers\": [],\n    \"ge_cloud_id\": null,\n    \"action_list\": [\n      {\n        \"name\": \"store_validation_result\",\n        \"action\": {\n          \"class_name\": \"StoreValidationResultAction\"\n        }\n      },\n      {\n        \"name\": \"store_evaluation_params\",\n        \"action\": {\n          \"class_name\": \"StoreEvaluationParametersAction\"\n        }\n      },\n      {\n        \"name\": \"update_data_docs\",\n        \"action\": {\n          \"class_name\": \"UpdateDataDocsAction\"\n        }\n      }\n    ],\n    \"template_name\": null,\n    \"module_name\": \"great_expectations.checkpoint\",\n    \"validations\": [\n      {\n        \"name\": null,\n        \"batch_request\": {\n          \"datasource_name\": \"weather_data\",\n          \"data_asset_name\": \"station_location\",\n          \"options\": {},\n          \"batch_slice\": null\n        },\n        \"expectation_suite_ge_cloud_id\": null,\n        \"id\": null,\n        \"expectation_suite_name\": \"station_location_expectations\"\n      }\n    ],\n    \"slack_webhook\": null,\n    \"expectation_suite_ge_cloud_id\": null,\n    \"site_names\": null,\n    \"class_name\": \"Checkpoint\",\n    \"default_validation_id\": null\n  },\n  \"success\": true\n}"
     },
     "execution_count": 8,
     "metadata": {},
     "output_type": "execute_result"
    }
   ],
   "source": [
    "checkpoint.run()"
   ],
   "metadata": {
    "collapsed": false,
    "ExecuteTime": {
     "end_time": "2023-10-27T03:57:53.573325Z",
     "start_time": "2023-10-27T03:57:49.210109Z"
    }
   },
   "id": "59e9cc33af4dd5f"
  },
  {
   "cell_type": "code",
   "execution_count": 1,
   "outputs": [
    {
     "name": "stdout",
     "output_type": "stream",
     "text": [
      "\r\n",
      "The following Data Docs sites will be built:\r\n",
      "\r\n",
      " - \u001B[36mlocal_site:\u001B[0m file:///Users/m.habedank/Projects/private/DBU/dwd-weather-data-ingestion/great_expectations/uncommitted/data_docs/local_site/index.html\r\n",
      "\r\n",
      "Would you like to proceed? [Y/n]: \r\n",
      "Building Data Docs...\r\n",
      "\r\n",
      "Done building Data Docs\r\n",
      "\u001B[0m"
     ]
    }
   ],
   "source": [
    "! printf 'y' | great_expectations docs build"
   ],
   "metadata": {
    "collapsed": false,
    "ExecuteTime": {
     "end_time": "2023-11-11T00:25:50.954864Z",
     "start_time": "2023-11-11T00:25:25.910837Z"
    }
   },
   "id": "56bd6f5d237972de"
  },
  {
   "cell_type": "code",
   "execution_count": 9,
   "outputs": [],
   "source": [],
   "metadata": {
    "collapsed": false,
    "ExecuteTime": {
     "end_time": "2023-10-27T03:57:59.719809Z",
     "start_time": "2023-10-27T03:57:59.717330Z"
    }
   },
   "id": "3cab41148a063cb3"
  }
 ],
 "metadata": {
  "kernelspec": {
   "display_name": "Python 3",
   "language": "python",
   "name": "python3"
  },
  "language_info": {
   "codemirror_mode": {
    "name": "ipython",
    "version": 2
   },
   "file_extension": ".py",
   "mimetype": "text/x-python",
   "name": "python",
   "nbconvert_exporter": "python",
   "pygments_lexer": "ipython2",
   "version": "2.7.6"
  }
 },
 "nbformat": 4,
 "nbformat_minor": 5
}
