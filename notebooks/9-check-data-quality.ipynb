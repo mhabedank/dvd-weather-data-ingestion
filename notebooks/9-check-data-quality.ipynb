{
 "cells": [
  {
   "cell_type": "code",
   "execution_count": 49,
   "id": "initial_id",
   "metadata": {
    "collapsed": true,
    "ExecuteTime": {
     "end_time": "2023-09-09T20:06:39.012915Z",
     "start_time": "2023-09-09T20:06:39.005078Z"
    }
   },
   "outputs": [],
   "source": [
    "import great_expectations as gx\n",
    "from great_expectations.validator.validator import Validator\n",
    "\n",
    "from dotenv import load_dotenv\n",
    "import os \n",
    "\n",
    "load_dotenv()\n",
    "\n",
    "AWS_RDS_CONNECTION_STRING = os.getenv(\"AWS_RDS_CONNECTION_STRING\")"
   ]
  },
  {
   "cell_type": "code",
   "execution_count": 33,
   "outputs": [],
   "source": [
    "context = gx.get_context(context_root_dir=\"../great_expectations\")"
   ],
   "metadata": {
    "collapsed": false,
    "ExecuteTime": {
     "end_time": "2023-09-09T19:40:55.900380Z",
     "start_time": "2023-09-09T19:40:55.787770Z"
    }
   },
   "id": "d42ef49f21dfceb9"
  },
  {
   "cell_type": "code",
   "execution_count": 37,
   "outputs": [],
   "source": [
    "data_asset = context.get_datasource(\"weather_data\").get_asset(\"station_location\")\n",
    "batch_request = data_asset.build_batch_request()"
   ],
   "metadata": {
    "collapsed": false,
    "ExecuteTime": {
     "end_time": "2023-09-09T19:45:16.376281Z",
     "start_time": "2023-09-09T19:45:16.370298Z"
    }
   },
   "id": "4058dbee1865f40"
  },
  {
   "cell_type": "code",
   "execution_count": 39,
   "outputs": [
    {
     "data": {
      "text/plain": "{\n  \"expectation_suite_name\": \"station_location_expectations\",\n  \"ge_cloud_id\": null,\n  \"expectations\": [],\n  \"data_asset_type\": null,\n  \"meta\": {\n    \"great_expectations_version\": \"0.17.15\"\n  }\n}"
     },
     "execution_count": 39,
     "metadata": {},
     "output_type": "execute_result"
    }
   ],
   "source": [
    "context.add_or_update_expectation_suite(\"station_location_expectations\")"
   ],
   "metadata": {
    "collapsed": false,
    "ExecuteTime": {
     "end_time": "2023-09-09T19:45:50.529848Z",
     "start_time": "2023-09-09T19:45:50.408786Z"
    }
   },
   "id": "a19a28510e160c2b"
  },
  {
   "cell_type": "code",
   "execution_count": 50,
   "outputs": [],
   "source": [
    "validator:Validator = context.get_validator(\n",
    "    batch_request=batch_request,\n",
    "    expectation_suite_name=\"station_location_expectations\",\n",
    ")"
   ],
   "metadata": {
    "collapsed": false,
    "ExecuteTime": {
     "end_time": "2023-09-09T20:06:42.550838Z",
     "start_time": "2023-09-09T20:06:42.198832Z"
    }
   },
   "id": "206810de3a00e788"
  },
  {
   "cell_type": "code",
   "execution_count": 51,
   "outputs": [
    {
     "data": {
      "text/plain": "Calculating Metrics:   0%|          | 0/2 [00:00<?, ?it/s]",
      "application/vnd.jupyter.widget-view+json": {
       "version_major": 2,
       "version_minor": 0,
       "model_id": "4ded8763c6aa4f6e8fcd003ff11e1a04"
      }
     },
     "metadata": {},
     "output_type": "display_data"
    },
    {
     "data": {
      "text/plain": "Calculating Metrics:   0%|          | 0/2 [00:00<?, ?it/s]",
      "application/vnd.jupyter.widget-view+json": {
       "version_major": 2,
       "version_minor": 0,
       "model_id": "3d646431b3034a3e8a07bfe9fd6fb0da"
      }
     },
     "metadata": {},
     "output_type": "display_data"
    },
    {
     "data": {
      "text/plain": "Calculating Metrics:   0%|          | 0/2 [00:00<?, ?it/s]",
      "application/vnd.jupyter.widget-view+json": {
       "version_major": 2,
       "version_minor": 0,
       "model_id": "5aefe881d742474b827a5c4ae806c036"
      }
     },
     "metadata": {},
     "output_type": "display_data"
    },
    {
     "data": {
      "text/plain": "Calculating Metrics:   0%|          | 0/2 [00:00<?, ?it/s]",
      "application/vnd.jupyter.widget-view+json": {
       "version_major": 2,
       "version_minor": 0,
       "model_id": "542a11611ba647bc9d99fe96d75b58d5"
      }
     },
     "metadata": {},
     "output_type": "display_data"
    },
    {
     "data": {
      "text/plain": "Calculating Metrics:   0%|          | 0/2 [00:00<?, ?it/s]",
      "application/vnd.jupyter.widget-view+json": {
       "version_major": 2,
       "version_minor": 0,
       "model_id": "70dc890960974f4e8f20546ceedd5d6f"
      }
     },
     "metadata": {},
     "output_type": "display_data"
    },
    {
     "data": {
      "text/plain": "Calculating Metrics:   0%|          | 0/2 [00:00<?, ?it/s]",
      "application/vnd.jupyter.widget-view+json": {
       "version_major": 2,
       "version_minor": 0,
       "model_id": "b112929205c042408cd2d8bf42451022"
      }
     },
     "metadata": {},
     "output_type": "display_data"
    },
    {
     "data": {
      "text/plain": "Calculating Metrics:   0%|          | 0/2 [00:00<?, ?it/s]",
      "application/vnd.jupyter.widget-view+json": {
       "version_major": 2,
       "version_minor": 0,
       "model_id": "b3a915d823524e23901263808f97ae1d"
      }
     },
     "metadata": {},
     "output_type": "display_data"
    },
    {
     "data": {
      "text/plain": "Calculating Metrics:   0%|          | 0/10 [00:00<?, ?it/s]",
      "application/vnd.jupyter.widget-view+json": {
       "version_major": 2,
       "version_minor": 0,
       "model_id": "92889dab92f14ecea173698c6b784709"
      }
     },
     "metadata": {},
     "output_type": "display_data"
    },
    {
     "data": {
      "text/plain": "Calculating Metrics:   0%|          | 0/11 [00:00<?, ?it/s]",
      "application/vnd.jupyter.widget-view+json": {
       "version_major": 2,
       "version_minor": 0,
       "model_id": "7e2686a4818a4322ad42072a8ad14a76"
      }
     },
     "metadata": {},
     "output_type": "display_data"
    },
    {
     "data": {
      "text/plain": "Calculating Metrics:   0%|          | 0/11 [00:00<?, ?it/s]",
      "application/vnd.jupyter.widget-view+json": {
       "version_major": 2,
       "version_minor": 0,
       "model_id": "794be2ed7dfa4583ac175badc3e1e4e7"
      }
     },
     "metadata": {},
     "output_type": "display_data"
    },
    {
     "data": {
      "text/plain": "Calculating Metrics:   0%|          | 0/11 [00:00<?, ?it/s]",
      "application/vnd.jupyter.widget-view+json": {
       "version_major": 2,
       "version_minor": 0,
       "model_id": "c02d4ab6e56d45268bd93a5acff09d26"
      }
     },
     "metadata": {},
     "output_type": "display_data"
    }
   ],
   "source": [
    "validator.expect_column_to_exist(\"id\")\n",
    "validator.expect_column_to_exist(\"station_id\")\n",
    "validator.expect_column_to_exist(\"latitude\")\n",
    "validator.expect_column_to_exist(\"longitude\")\n",
    "validator.expect_column_to_exist(\"altitude\")\n",
    "validator.expect_column_to_exist(\"from_date\")\n",
    "validator.expect_column_to_exist(\"to_date\")\n",
    "\n",
    "validator.expect_column_values_to_be_unique(\"id\")\n",
    "\n",
    "# Maxima Punkte siehe https://de.wikipedia.org/wiki/Liste_der_Extrempunkte_Deutschlands\n",
    "validator.expect_column_values_to_be_between(\n",
    "    \"latitude\", min_value=-47.270111, max_value=55.0846,\n",
    ")\n",
    "validator.expect_column_values_to_be_between(\n",
    "    \"longitude\", min_value=5.86633, max_value=15.04193\n",
    ")\n",
    "validator.expect_column_values_to_be_between(\n",
    "    \"altitude\", min_value=-4, max_value=3000\n",
    ")\n",
    "\n",
    "validator.expect_column_values_to_be_valid_date(\"from_date\", \"%Y-%m-%d\")\n",
    "validator.expect_column_values_to_be_valid_date(\"to_date\", \"%Y-%m-%d\")\n",
    "\n",
    "validator.expect_column_values_to_not_be_null(\"from_date\")\n",
    "\n",
    "validator.save_expectation_suite()\n"
   ],
   "metadata": {
    "collapsed": false,
    "ExecuteTime": {
     "end_time": "2023-09-09T20:16:28.634102Z",
     "start_time": "2023-09-09T20:16:17.930655Z"
    }
   },
   "id": "b009ab0eb287e189"
  },
  {
   "cell_type": "code",
   "execution_count": 52,
   "outputs": [],
   "source": [
    "checkpoint = context.add_or_update_checkpoint(\n",
    "    name=\"weather_checkpoint\",\n",
    "    validations=[\n",
    "        {\n",
    "            \"batch_request\": batch_request,\n",
    "            \"expectation_suite_name\": \"station_location_expectations\",\n",
    "        },\n",
    "    ],\n",
    ")"
   ],
   "metadata": {
    "collapsed": false,
    "ExecuteTime": {
     "end_time": "2023-09-09T20:17:27.049419Z",
     "start_time": "2023-09-09T20:17:27.035944Z"
    }
   },
   "id": "864b3325a702d9"
  },
  {
   "cell_type": "code",
   "execution_count": 53,
   "outputs": [
    {
     "data": {
      "text/plain": "Calculating Metrics:   0%|          | 0/39 [00:00<?, ?it/s]",
      "application/vnd.jupyter.widget-view+json": {
       "version_major": 2,
       "version_minor": 0,
       "model_id": "d6dcf1a9648247d38808848726567546"
      }
     },
     "metadata": {},
     "output_type": "display_data"
    },
    {
     "data": {
      "text/plain": "{\n  \"run_id\": {\n    \"run_name\": null,\n    \"run_time\": \"2023-09-09T22:17:28.172265+02:00\"\n  },\n  \"run_results\": {\n    \"ValidationResultIdentifier::station_location_expectations/__none__/20230909T201728.172265Z/weather_data-station_location\": {\n      \"validation_result\": {\n        \"success\": true,\n        \"results\": [\n          {\n            \"success\": true,\n            \"expectation_config\": {\n              \"expectation_type\": \"expect_column_to_exist\",\n              \"kwargs\": {\n                \"column\": \"id\",\n                \"batch_id\": \"weather_data-station_location\"\n              },\n              \"meta\": {}\n            },\n            \"result\": {},\n            \"meta\": {},\n            \"exception_info\": {\n              \"raised_exception\": false,\n              \"exception_traceback\": null,\n              \"exception_message\": null\n            }\n          },\n          {\n            \"success\": true,\n            \"expectation_config\": {\n              \"expectation_type\": \"expect_column_values_to_be_unique\",\n              \"kwargs\": {\n                \"column\": \"id\",\n                \"batch_id\": \"weather_data-station_location\"\n              },\n              \"meta\": {}\n            },\n            \"result\": {\n              \"element_count\": 1268,\n              \"unexpected_count\": 0,\n              \"unexpected_percent\": 0.0,\n              \"partial_unexpected_list\": [],\n              \"missing_count\": 0,\n              \"missing_percent\": 0.0,\n              \"unexpected_percent_total\": 0.0,\n              \"unexpected_percent_nonmissing\": 0.0,\n              \"partial_unexpected_counts\": []\n            },\n            \"meta\": {},\n            \"exception_info\": {\n              \"raised_exception\": false,\n              \"exception_traceback\": null,\n              \"exception_message\": null\n            }\n          },\n          {\n            \"success\": true,\n            \"expectation_config\": {\n              \"expectation_type\": \"expect_column_to_exist\",\n              \"kwargs\": {\n                \"column\": \"station_id\",\n                \"batch_id\": \"weather_data-station_location\"\n              },\n              \"meta\": {}\n            },\n            \"result\": {},\n            \"meta\": {},\n            \"exception_info\": {\n              \"raised_exception\": false,\n              \"exception_traceback\": null,\n              \"exception_message\": null\n            }\n          },\n          {\n            \"success\": true,\n            \"expectation_config\": {\n              \"expectation_type\": \"expect_column_to_exist\",\n              \"kwargs\": {\n                \"column\": \"latitude\",\n                \"batch_id\": \"weather_data-station_location\"\n              },\n              \"meta\": {}\n            },\n            \"result\": {},\n            \"meta\": {},\n            \"exception_info\": {\n              \"raised_exception\": false,\n              \"exception_traceback\": null,\n              \"exception_message\": null\n            }\n          },\n          {\n            \"success\": true,\n            \"expectation_config\": {\n              \"expectation_type\": \"expect_column_values_to_be_between\",\n              \"kwargs\": {\n                \"column\": \"latitude\",\n                \"max_value\": 55.0846,\n                \"min_value\": -47.270111,\n                \"batch_id\": \"weather_data-station_location\"\n              },\n              \"meta\": {}\n            },\n            \"result\": {\n              \"element_count\": 1268,\n              \"unexpected_count\": 0,\n              \"unexpected_percent\": 0.0,\n              \"partial_unexpected_list\": [],\n              \"missing_count\": 0,\n              \"missing_percent\": 0.0,\n              \"unexpected_percent_total\": 0.0,\n              \"unexpected_percent_nonmissing\": 0.0,\n              \"partial_unexpected_counts\": []\n            },\n            \"meta\": {},\n            \"exception_info\": {\n              \"raised_exception\": false,\n              \"exception_traceback\": null,\n              \"exception_message\": null\n            }\n          },\n          {\n            \"success\": true,\n            \"expectation_config\": {\n              \"expectation_type\": \"expect_column_to_exist\",\n              \"kwargs\": {\n                \"column\": \"longitude\",\n                \"batch_id\": \"weather_data-station_location\"\n              },\n              \"meta\": {}\n            },\n            \"result\": {},\n            \"meta\": {},\n            \"exception_info\": {\n              \"raised_exception\": false,\n              \"exception_traceback\": null,\n              \"exception_message\": null\n            }\n          },\n          {\n            \"success\": true,\n            \"expectation_config\": {\n              \"expectation_type\": \"expect_column_values_to_be_between\",\n              \"kwargs\": {\n                \"column\": \"longitude\",\n                \"max_value\": 15.04193,\n                \"min_value\": 5.86633,\n                \"batch_id\": \"weather_data-station_location\"\n              },\n              \"meta\": {}\n            },\n            \"result\": {\n              \"element_count\": 1268,\n              \"unexpected_count\": 0,\n              \"unexpected_percent\": 0.0,\n              \"partial_unexpected_list\": [],\n              \"missing_count\": 0,\n              \"missing_percent\": 0.0,\n              \"unexpected_percent_total\": 0.0,\n              \"unexpected_percent_nonmissing\": 0.0,\n              \"partial_unexpected_counts\": []\n            },\n            \"meta\": {},\n            \"exception_info\": {\n              \"raised_exception\": false,\n              \"exception_traceback\": null,\n              \"exception_message\": null\n            }\n          },\n          {\n            \"success\": true,\n            \"expectation_config\": {\n              \"expectation_type\": \"expect_column_to_exist\",\n              \"kwargs\": {\n                \"column\": \"altitude\",\n                \"batch_id\": \"weather_data-station_location\"\n              },\n              \"meta\": {}\n            },\n            \"result\": {},\n            \"meta\": {},\n            \"exception_info\": {\n              \"raised_exception\": false,\n              \"exception_traceback\": null,\n              \"exception_message\": null\n            }\n          },\n          {\n            \"success\": true,\n            \"expectation_config\": {\n              \"expectation_type\": \"expect_column_values_to_be_between\",\n              \"kwargs\": {\n                \"column\": \"altitude\",\n                \"max_value\": 3000,\n                \"min_value\": -4,\n                \"batch_id\": \"weather_data-station_location\"\n              },\n              \"meta\": {}\n            },\n            \"result\": {\n              \"element_count\": 1268,\n              \"unexpected_count\": 0,\n              \"unexpected_percent\": 0.0,\n              \"partial_unexpected_list\": [],\n              \"missing_count\": 0,\n              \"missing_percent\": 0.0,\n              \"unexpected_percent_total\": 0.0,\n              \"unexpected_percent_nonmissing\": 0.0,\n              \"partial_unexpected_counts\": []\n            },\n            \"meta\": {},\n            \"exception_info\": {\n              \"raised_exception\": false,\n              \"exception_traceback\": null,\n              \"exception_message\": null\n            }\n          },\n          {\n            \"success\": true,\n            \"expectation_config\": {\n              \"expectation_type\": \"expect_column_to_exist\",\n              \"kwargs\": {\n                \"column\": \"from_date\",\n                \"batch_id\": \"weather_data-station_location\"\n              },\n              \"meta\": {}\n            },\n            \"result\": {},\n            \"meta\": {},\n            \"exception_info\": {\n              \"raised_exception\": false,\n              \"exception_traceback\": null,\n              \"exception_message\": null\n            }\n          },\n          {\n            \"success\": true,\n            \"expectation_config\": {\n              \"expectation_type\": \"expect_column_to_exist\",\n              \"kwargs\": {\n                \"column\": \"to_date\",\n                \"batch_id\": \"weather_data-station_location\"\n              },\n              \"meta\": {}\n            },\n            \"result\": {},\n            \"meta\": {},\n            \"exception_info\": {\n              \"raised_exception\": false,\n              \"exception_traceback\": null,\n              \"exception_message\": null\n            }\n          }\n        ],\n        \"evaluation_parameters\": {},\n        \"statistics\": {\n          \"evaluated_expectations\": 11,\n          \"successful_expectations\": 11,\n          \"unsuccessful_expectations\": 0,\n          \"success_percent\": 100.0\n        },\n        \"meta\": {\n          \"great_expectations_version\": \"0.17.15\",\n          \"expectation_suite_name\": \"station_location_expectations\",\n          \"run_id\": {\n            \"run_name\": null,\n            \"run_time\": \"2023-09-09T22:17:28.172265+02:00\"\n          },\n          \"batch_spec\": {\n            \"type\": \"table\",\n            \"data_asset_name\": \"station_location\",\n            \"table_name\": \"station_location\",\n            \"schema_name\": \"public\",\n            \"batch_identifiers\": {}\n          },\n          \"batch_markers\": {\n            \"ge_load_time\": \"20230909T201728.186427Z\"\n          },\n          \"active_batch_definition\": {\n            \"datasource_name\": \"weather_data\",\n            \"data_connector_name\": \"fluent\",\n            \"data_asset_name\": \"station_location\",\n            \"batch_identifiers\": {}\n          },\n          \"validation_time\": \"20230909T201728.530776Z\",\n          \"checkpoint_name\": \"weather_checkpoint\",\n          \"validation_id\": null,\n          \"checkpoint_id\": null\n        }\n      },\n      \"actions_results\": {\n        \"store_validation_result\": {\n          \"class\": \"StoreValidationResultAction\"\n        },\n        \"store_evaluation_params\": {\n          \"class\": \"StoreEvaluationParametersAction\"\n        },\n        \"update_data_docs\": {\n          \"local_site\": \"file:///Users/m.habedank/Projects/private/DBU/dwd-weather-data-ingestion/notebooks/../great_expectations/uncommitted/data_docs/local_site/validations/station_location_expectations/__none__/20230909T201728.172265Z/weather_data-station_location.html\",\n          \"class\": \"UpdateDataDocsAction\"\n        }\n      }\n    }\n  },\n  \"checkpoint_config\": {\n    \"runtime_configuration\": {},\n    \"slack_webhook\": null,\n    \"profilers\": [],\n    \"expectation_suite_ge_cloud_id\": null,\n    \"default_validation_id\": null,\n    \"class_name\": \"Checkpoint\",\n    \"ge_cloud_id\": null,\n    \"run_name_template\": null,\n    \"evaluation_parameters\": {},\n    \"action_list\": [\n      {\n        \"name\": \"store_validation_result\",\n        \"action\": {\n          \"class_name\": \"StoreValidationResultAction\"\n        }\n      },\n      {\n        \"name\": \"store_evaluation_params\",\n        \"action\": {\n          \"class_name\": \"StoreEvaluationParametersAction\"\n        }\n      },\n      {\n        \"name\": \"update_data_docs\",\n        \"action\": {\n          \"class_name\": \"UpdateDataDocsAction\"\n        }\n      }\n    ],\n    \"batch_request\": {},\n    \"site_names\": null,\n    \"template_name\": null,\n    \"config_version\": 1.0,\n    \"notify_with\": null,\n    \"validations\": [\n      {\n        \"id\": null,\n        \"batch_request\": {\n          \"datasource_name\": \"weather_data\",\n          \"data_asset_name\": \"station_location\",\n          \"options\": {},\n          \"batch_slice\": null\n        },\n        \"expectation_suite_name\": \"station_location_expectations\",\n        \"name\": null,\n        \"expectation_suite_ge_cloud_id\": null\n      }\n    ],\n    \"notify_on\": null,\n    \"expectation_suite_name\": null,\n    \"module_name\": \"great_expectations.checkpoint\",\n    \"name\": \"weather_checkpoint\"\n  },\n  \"success\": true\n}"
     },
     "execution_count": 53,
     "metadata": {},
     "output_type": "execute_result"
    }
   ],
   "source": [
    "checkpoint.run()"
   ],
   "metadata": {
    "collapsed": false,
    "ExecuteTime": {
     "end_time": "2023-09-09T20:17:32.121672Z",
     "start_time": "2023-09-09T20:17:28.163773Z"
    }
   },
   "id": "59e9cc33af4dd5f"
  },
  {
   "cell_type": "code",
   "execution_count": 32,
   "outputs": [],
   "source": [],
   "metadata": {
    "collapsed": false,
    "ExecuteTime": {
     "end_time": "2023-09-09T19:37:09.180422Z",
     "start_time": "2023-09-09T19:37:09.173830Z"
    }
   },
   "id": "56bd6f5d237972de"
  }
 ],
 "metadata": {
  "kernelspec": {
   "display_name": "Python 3",
   "language": "python",
   "name": "python3"
  },
  "language_info": {
   "codemirror_mode": {
    "name": "ipython",
    "version": 2
   },
   "file_extension": ".py",
   "mimetype": "text/x-python",
   "name": "python",
   "nbconvert_exporter": "python",
   "pygments_lexer": "ipython2",
   "version": "2.7.6"
  }
 },
 "nbformat": 4,
 "nbformat_minor": 5
}
